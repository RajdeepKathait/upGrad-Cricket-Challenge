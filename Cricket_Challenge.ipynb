{
 "cells": [
  {
   "cell_type": "markdown",
   "metadata": {},
   "source": [
    "# Sports Analytics Hackathon"
   ]
  },
  {
   "cell_type": "markdown",
   "metadata": {},
   "source": [
    "Australia tour of India - 2019\n",
    "\n",
    "Predict the results for:\n",
    "\n",
    "- Winner of the series.\n",
    "- Series output.\n",
    "- Highest run scorer.\n",
    "- Highest wicket-taker.\n",
    "- Maximum sixes.\n",
    "- Maximum fours."
   ]
  },
  {
   "cell_type": "code",
   "execution_count": 1021,
   "metadata": {},
   "outputs": [],
   "source": [
    "# Supress warnings\n",
    "import warnings\n",
    "warnings.filterwarnings('ignore')"
   ]
  },
  {
   "cell_type": "code",
   "execution_count": 1022,
   "metadata": {},
   "outputs": [],
   "source": [
    "# Import all required packages\n",
    "import numpy as np\n",
    "import pandas as pd\n",
    "import matplotlib.pyplot as plt\n",
    "import seaborn as sns\n",
    "\n",
    "# To Scale the data\n",
    "from sklearn.preprocessing import StandardScaler\n",
    "\n",
    "#Improting the PCA module\n",
    "from sklearn.decomposition import PCA\n",
    "from sklearn.decomposition import IncrementalPCA\n",
    "\n",
    "# To perform KMeans clustering \n",
    "from sklearn.cluster import KMeans\n",
    "\n",
    "# To perform Hierarchical clustering\n",
    "from scipy.cluster.hierarchy import linkage\n",
    "from scipy.cluster.hierarchy import dendrogram\n",
    "from scipy.cluster.hierarchy import cut_tree"
   ]
  },
  {
   "cell_type": "markdown",
   "metadata": {},
   "source": [
    "### Reading and Understanding the Data"
   ]
  },
  {
   "cell_type": "markdown",
   "metadata": {},
   "source": [
    "We have gathered the following data:\n",
    "- Series Statistics\n",
    "    - 1. As this series will be played in India, in one dataset we have collected all the match results of India played within India in last 10 years.\n",
    "    - 2. In second dataset we have just included the data of last series played bwtween India and Australia in Australia.\n",
    "    \n",
    "- Batsmen Statistics\n",
    "    - This dataset will help us in predicting highest run scorer, maximum sixes and fours.\n",
    "    \n",
    "- Bowlers Statistics\n",
    "    - This dataset will help us in predicting the highest wicket taker."
   ]
  },
  {
   "cell_type": "code",
   "execution_count": 1023,
   "metadata": {},
   "outputs": [
    {
     "data": {
      "text/html": [
       "<div>\n",
       "<style scoped>\n",
       "    .dataframe tbody tr th:only-of-type {\n",
       "        vertical-align: middle;\n",
       "    }\n",
       "\n",
       "    .dataframe tbody tr th {\n",
       "        vertical-align: top;\n",
       "    }\n",
       "\n",
       "    .dataframe thead th {\n",
       "        text-align: right;\n",
       "    }\n",
       "</style>\n",
       "<table border=\"1\" class=\"dataframe\">\n",
       "  <thead>\n",
       "    <tr style=\"text-align: right;\">\n",
       "      <th></th>\n",
       "      <th>Winner</th>\n",
       "      <th>Result</th>\n",
       "      <th>Margin</th>\n",
       "      <th>BR</th>\n",
       "      <th>Match</th>\n",
       "      <th>Ground</th>\n",
       "      <th>Start Date</th>\n",
       "    </tr>\n",
       "  </thead>\n",
       "  <tbody>\n",
       "    <tr>\n",
       "      <th>0</th>\n",
       "      <td>Australia</td>\n",
       "      <td>won</td>\n",
       "      <td>4 runs</td>\n",
       "      <td>NaN</td>\n",
       "      <td>India v Australia</td>\n",
       "      <td>Vadodara</td>\n",
       "      <td>25-Oct-09</td>\n",
       "    </tr>\n",
       "    <tr>\n",
       "      <th>1</th>\n",
       "      <td>India</td>\n",
       "      <td>won</td>\n",
       "      <td>99 runs</td>\n",
       "      <td>NaN</td>\n",
       "      <td>India v Australia</td>\n",
       "      <td>Nagpur</td>\n",
       "      <td>28-Oct-09</td>\n",
       "    </tr>\n",
       "    <tr>\n",
       "      <th>2</th>\n",
       "      <td>India</td>\n",
       "      <td>won</td>\n",
       "      <td>6 wickets</td>\n",
       "      <td>10.0</td>\n",
       "      <td>India v Australia</td>\n",
       "      <td>Delhi</td>\n",
       "      <td>31-Oct-09</td>\n",
       "    </tr>\n",
       "    <tr>\n",
       "      <th>3</th>\n",
       "      <td>Australia</td>\n",
       "      <td>won</td>\n",
       "      <td>24 runs</td>\n",
       "      <td>NaN</td>\n",
       "      <td>India v Australia</td>\n",
       "      <td>Mohali</td>\n",
       "      <td>02-Nov-09</td>\n",
       "    </tr>\n",
       "    <tr>\n",
       "      <th>4</th>\n",
       "      <td>Australia</td>\n",
       "      <td>won</td>\n",
       "      <td>3 runs</td>\n",
       "      <td>NaN</td>\n",
       "      <td>India v Australia</td>\n",
       "      <td>Hyderabad (Deccan)</td>\n",
       "      <td>05-Nov-09</td>\n",
       "    </tr>\n",
       "    <tr>\n",
       "      <th>5</th>\n",
       "      <td>Australia</td>\n",
       "      <td>won</td>\n",
       "      <td>6 wickets</td>\n",
       "      <td>49.0</td>\n",
       "      <td>India v Australia</td>\n",
       "      <td>Guwahati</td>\n",
       "      <td>08-Nov-09</td>\n",
       "    </tr>\n",
       "    <tr>\n",
       "      <th>6</th>\n",
       "      <td>NaN</td>\n",
       "      <td>aban</td>\n",
       "      <td>-</td>\n",
       "      <td>NaN</td>\n",
       "      <td>India v Australia</td>\n",
       "      <td>Mumbai</td>\n",
       "      <td>11-Nov-09</td>\n",
       "    </tr>\n",
       "    <tr>\n",
       "      <th>7</th>\n",
       "      <td>India</td>\n",
       "      <td>won</td>\n",
       "      <td>3 runs</td>\n",
       "      <td>NaN</td>\n",
       "      <td>India v Sri Lanka</td>\n",
       "      <td>Rajkot</td>\n",
       "      <td>15-Dec-09</td>\n",
       "    </tr>\n",
       "    <tr>\n",
       "      <th>8</th>\n",
       "      <td>Sri Lanka</td>\n",
       "      <td>won</td>\n",
       "      <td>3 wickets</td>\n",
       "      <td>5.0</td>\n",
       "      <td>India v Sri Lanka</td>\n",
       "      <td>Nagpur</td>\n",
       "      <td>18-Dec-09</td>\n",
       "    </tr>\n",
       "    <tr>\n",
       "      <th>9</th>\n",
       "      <td>India</td>\n",
       "      <td>won</td>\n",
       "      <td>7 wickets</td>\n",
       "      <td>45.0</td>\n",
       "      <td>India v Sri Lanka</td>\n",
       "      <td>Cuttack</td>\n",
       "      <td>21-Dec-09</td>\n",
       "    </tr>\n",
       "  </tbody>\n",
       "</table>\n",
       "</div>"
      ],
      "text/plain": [
       "      Winner Result     Margin    BR              Match              Ground  \\\n",
       "0  Australia    won     4 runs   NaN  India v Australia            Vadodara   \n",
       "1      India    won    99 runs   NaN  India v Australia              Nagpur   \n",
       "2      India    won  6 wickets  10.0  India v Australia               Delhi   \n",
       "3  Australia    won    24 runs   NaN  India v Australia              Mohali   \n",
       "4  Australia    won     3 runs   NaN  India v Australia  Hyderabad (Deccan)   \n",
       "5  Australia    won  6 wickets  49.0  India v Australia            Guwahati   \n",
       "6        NaN   aban          -   NaN  India v Australia              Mumbai   \n",
       "7      India    won     3 runs   NaN  India v Sri Lanka              Rajkot   \n",
       "8  Sri Lanka    won  3 wickets   5.0  India v Sri Lanka              Nagpur   \n",
       "9      India    won  7 wickets  45.0  India v Sri Lanka             Cuttack   \n",
       "\n",
       "  Start Date  \n",
       "0  25-Oct-09  \n",
       "1  28-Oct-09  \n",
       "2  31-Oct-09  \n",
       "3  02-Nov-09  \n",
       "4  05-Nov-09  \n",
       "5  08-Nov-09  \n",
       "6  11-Nov-09  \n",
       "7  15-Dec-09  \n",
       "8  18-Dec-09  \n",
       "9  21-Dec-09  "
      ]
     },
     "execution_count": 1023,
     "metadata": {},
     "output_type": "execute_result"
    }
   ],
   "source": [
    "# Import and read dataset 1\n",
    "df_series = pd.read_csv('Series_Stats.csv')\n",
    "df_series.head(10)"
   ]
  },
  {
   "cell_type": "code",
   "execution_count": 1024,
   "metadata": {},
   "outputs": [
    {
     "data": {
      "text/plain": [
       "(102, 7)"
      ]
     },
     "execution_count": 1024,
     "metadata": {},
     "output_type": "execute_result"
    }
   ],
   "source": [
    "df_series.shape"
   ]
  },
  {
   "cell_type": "markdown",
   "metadata": {},
   "source": [
    "Let's filter out the matches played between India and Australia."
   ]
  },
  {
   "cell_type": "code",
   "execution_count": 1025,
   "metadata": {},
   "outputs": [],
   "source": [
    "df_series = df_series[df_series['Match'] == 'India v Australia']"
   ]
  },
  {
   "cell_type": "code",
   "execution_count": 1026,
   "metadata": {},
   "outputs": [
    {
     "data": {
      "text/html": [
       "<div>\n",
       "<style scoped>\n",
       "    .dataframe tbody tr th:only-of-type {\n",
       "        vertical-align: middle;\n",
       "    }\n",
       "\n",
       "    .dataframe tbody tr th {\n",
       "        vertical-align: top;\n",
       "    }\n",
       "\n",
       "    .dataframe thead th {\n",
       "        text-align: right;\n",
       "    }\n",
       "</style>\n",
       "<table border=\"1\" class=\"dataframe\">\n",
       "  <thead>\n",
       "    <tr style=\"text-align: right;\">\n",
       "      <th></th>\n",
       "      <th>Winner</th>\n",
       "      <th>Result</th>\n",
       "      <th>Margin</th>\n",
       "      <th>BR</th>\n",
       "      <th>Match</th>\n",
       "      <th>Ground</th>\n",
       "      <th>Start Date</th>\n",
       "    </tr>\n",
       "  </thead>\n",
       "  <tbody>\n",
       "    <tr>\n",
       "      <th>0</th>\n",
       "      <td>Australia</td>\n",
       "      <td>won</td>\n",
       "      <td>4 runs</td>\n",
       "      <td>NaN</td>\n",
       "      <td>India v Australia</td>\n",
       "      <td>Vadodara</td>\n",
       "      <td>25-Oct-09</td>\n",
       "    </tr>\n",
       "    <tr>\n",
       "      <th>1</th>\n",
       "      <td>India</td>\n",
       "      <td>won</td>\n",
       "      <td>99 runs</td>\n",
       "      <td>NaN</td>\n",
       "      <td>India v Australia</td>\n",
       "      <td>Nagpur</td>\n",
       "      <td>28-Oct-09</td>\n",
       "    </tr>\n",
       "    <tr>\n",
       "      <th>2</th>\n",
       "      <td>India</td>\n",
       "      <td>won</td>\n",
       "      <td>6 wickets</td>\n",
       "      <td>10.0</td>\n",
       "      <td>India v Australia</td>\n",
       "      <td>Delhi</td>\n",
       "      <td>31-Oct-09</td>\n",
       "    </tr>\n",
       "    <tr>\n",
       "      <th>3</th>\n",
       "      <td>Australia</td>\n",
       "      <td>won</td>\n",
       "      <td>24 runs</td>\n",
       "      <td>NaN</td>\n",
       "      <td>India v Australia</td>\n",
       "      <td>Mohali</td>\n",
       "      <td>02-Nov-09</td>\n",
       "    </tr>\n",
       "    <tr>\n",
       "      <th>4</th>\n",
       "      <td>Australia</td>\n",
       "      <td>won</td>\n",
       "      <td>3 runs</td>\n",
       "      <td>NaN</td>\n",
       "      <td>India v Australia</td>\n",
       "      <td>Hyderabad (Deccan)</td>\n",
       "      <td>05-Nov-09</td>\n",
       "    </tr>\n",
       "    <tr>\n",
       "      <th>5</th>\n",
       "      <td>Australia</td>\n",
       "      <td>won</td>\n",
       "      <td>6 wickets</td>\n",
       "      <td>49.0</td>\n",
       "      <td>India v Australia</td>\n",
       "      <td>Guwahati</td>\n",
       "      <td>08-Nov-09</td>\n",
       "    </tr>\n",
       "    <tr>\n",
       "      <th>6</th>\n",
       "      <td>NaN</td>\n",
       "      <td>aban</td>\n",
       "      <td>-</td>\n",
       "      <td>NaN</td>\n",
       "      <td>India v Australia</td>\n",
       "      <td>Mumbai</td>\n",
       "      <td>11-Nov-09</td>\n",
       "    </tr>\n",
       "    <tr>\n",
       "      <th>15</th>\n",
       "      <td>NaN</td>\n",
       "      <td>aban</td>\n",
       "      <td>-</td>\n",
       "      <td>NaN</td>\n",
       "      <td>India v Australia</td>\n",
       "      <td>Kochi</td>\n",
       "      <td>17-Oct-10</td>\n",
       "    </tr>\n",
       "    <tr>\n",
       "      <th>16</th>\n",
       "      <td>India</td>\n",
       "      <td>won</td>\n",
       "      <td>5 wickets</td>\n",
       "      <td>7.0</td>\n",
       "      <td>India v Australia</td>\n",
       "      <td>Visakhapatnam</td>\n",
       "      <td>20-Oct-10</td>\n",
       "    </tr>\n",
       "    <tr>\n",
       "      <th>17</th>\n",
       "      <td>NaN</td>\n",
       "      <td>aban</td>\n",
       "      <td>-</td>\n",
       "      <td>NaN</td>\n",
       "      <td>India v Australia</td>\n",
       "      <td>Margao</td>\n",
       "      <td>24-Oct-10</td>\n",
       "    </tr>\n",
       "  </tbody>\n",
       "</table>\n",
       "</div>"
      ],
      "text/plain": [
       "       Winner Result     Margin    BR              Match              Ground  \\\n",
       "0   Australia    won     4 runs   NaN  India v Australia            Vadodara   \n",
       "1       India    won    99 runs   NaN  India v Australia              Nagpur   \n",
       "2       India    won  6 wickets  10.0  India v Australia               Delhi   \n",
       "3   Australia    won    24 runs   NaN  India v Australia              Mohali   \n",
       "4   Australia    won     3 runs   NaN  India v Australia  Hyderabad (Deccan)   \n",
       "5   Australia    won  6 wickets  49.0  India v Australia            Guwahati   \n",
       "6         NaN   aban          -   NaN  India v Australia              Mumbai   \n",
       "15        NaN   aban          -   NaN  India v Australia               Kochi   \n",
       "16      India    won  5 wickets   7.0  India v Australia       Visakhapatnam   \n",
       "17        NaN   aban          -   NaN  India v Australia              Margao   \n",
       "\n",
       "   Start Date  \n",
       "0   25-Oct-09  \n",
       "1   28-Oct-09  \n",
       "2   31-Oct-09  \n",
       "3   02-Nov-09  \n",
       "4   05-Nov-09  \n",
       "5   08-Nov-09  \n",
       "6   11-Nov-09  \n",
       "15  17-Oct-10  \n",
       "16  20-Oct-10  \n",
       "17  24-Oct-10  "
      ]
     },
     "execution_count": 1026,
     "metadata": {},
     "output_type": "execute_result"
    }
   ],
   "source": [
    "df_series.head(10)"
   ]
  },
  {
   "cell_type": "code",
   "execution_count": 1027,
   "metadata": {},
   "outputs": [
    {
     "data": {
      "text/plain": [
       "(23, 7)"
      ]
     },
     "execution_count": 1027,
     "metadata": {},
     "output_type": "execute_result"
    }
   ],
   "source": [
    "df_series.shape"
   ]
  },
  {
   "cell_type": "code",
   "execution_count": 1028,
   "metadata": {},
   "outputs": [
    {
     "name": "stdout",
     "output_type": "stream",
     "text": [
      "<class 'pandas.core.frame.DataFrame'>\n",
      "Int64Index: 23 entries, 0 to 90\n",
      "Data columns (total 7 columns):\n",
      "Winner        18 non-null object\n",
      "Result        23 non-null object\n",
      "Margin        23 non-null object\n",
      "BR            9 non-null float64\n",
      "Match         23 non-null object\n",
      "Ground        23 non-null object\n",
      "Start Date    23 non-null object\n",
      "dtypes: float64(1), object(6)\n",
      "memory usage: 1.4+ KB\n"
     ]
    }
   ],
   "source": [
    "df_series.info()"
   ]
  },
  {
   "cell_type": "markdown",
   "metadata": {},
   "source": [
    "Let's drop the matches which does not have a clear winner."
   ]
  },
  {
   "cell_type": "code",
   "execution_count": 1029,
   "metadata": {},
   "outputs": [
    {
     "data": {
      "text/html": [
       "<div>\n",
       "<style scoped>\n",
       "    .dataframe tbody tr th:only-of-type {\n",
       "        vertical-align: middle;\n",
       "    }\n",
       "\n",
       "    .dataframe tbody tr th {\n",
       "        vertical-align: top;\n",
       "    }\n",
       "\n",
       "    .dataframe thead th {\n",
       "        text-align: right;\n",
       "    }\n",
       "</style>\n",
       "<table border=\"1\" class=\"dataframe\">\n",
       "  <thead>\n",
       "    <tr style=\"text-align: right;\">\n",
       "      <th></th>\n",
       "      <th>Winner</th>\n",
       "      <th>Result</th>\n",
       "      <th>Margin</th>\n",
       "      <th>BR</th>\n",
       "      <th>Match</th>\n",
       "      <th>Ground</th>\n",
       "      <th>Start Date</th>\n",
       "    </tr>\n",
       "  </thead>\n",
       "  <tbody>\n",
       "    <tr>\n",
       "      <th>0</th>\n",
       "      <td>Australia</td>\n",
       "      <td>won</td>\n",
       "      <td>4 runs</td>\n",
       "      <td>NaN</td>\n",
       "      <td>India v Australia</td>\n",
       "      <td>Vadodara</td>\n",
       "      <td>25-Oct-09</td>\n",
       "    </tr>\n",
       "    <tr>\n",
       "      <th>1</th>\n",
       "      <td>India</td>\n",
       "      <td>won</td>\n",
       "      <td>99 runs</td>\n",
       "      <td>NaN</td>\n",
       "      <td>India v Australia</td>\n",
       "      <td>Nagpur</td>\n",
       "      <td>28-Oct-09</td>\n",
       "    </tr>\n",
       "    <tr>\n",
       "      <th>2</th>\n",
       "      <td>India</td>\n",
       "      <td>won</td>\n",
       "      <td>6 wickets</td>\n",
       "      <td>10.0</td>\n",
       "      <td>India v Australia</td>\n",
       "      <td>Delhi</td>\n",
       "      <td>31-Oct-09</td>\n",
       "    </tr>\n",
       "    <tr>\n",
       "      <th>3</th>\n",
       "      <td>Australia</td>\n",
       "      <td>won</td>\n",
       "      <td>24 runs</td>\n",
       "      <td>NaN</td>\n",
       "      <td>India v Australia</td>\n",
       "      <td>Mohali</td>\n",
       "      <td>02-Nov-09</td>\n",
       "    </tr>\n",
       "    <tr>\n",
       "      <th>4</th>\n",
       "      <td>Australia</td>\n",
       "      <td>won</td>\n",
       "      <td>3 runs</td>\n",
       "      <td>NaN</td>\n",
       "      <td>India v Australia</td>\n",
       "      <td>Hyderabad (Deccan)</td>\n",
       "      <td>05-Nov-09</td>\n",
       "    </tr>\n",
       "    <tr>\n",
       "      <th>5</th>\n",
       "      <td>Australia</td>\n",
       "      <td>won</td>\n",
       "      <td>6 wickets</td>\n",
       "      <td>49.0</td>\n",
       "      <td>India v Australia</td>\n",
       "      <td>Guwahati</td>\n",
       "      <td>08-Nov-09</td>\n",
       "    </tr>\n",
       "    <tr>\n",
       "      <th>16</th>\n",
       "      <td>India</td>\n",
       "      <td>won</td>\n",
       "      <td>5 wickets</td>\n",
       "      <td>7.0</td>\n",
       "      <td>India v Australia</td>\n",
       "      <td>Visakhapatnam</td>\n",
       "      <td>20-Oct-10</td>\n",
       "    </tr>\n",
       "    <tr>\n",
       "      <th>32</th>\n",
       "      <td>India</td>\n",
       "      <td>won</td>\n",
       "      <td>5 wickets</td>\n",
       "      <td>14.0</td>\n",
       "      <td>India v Australia</td>\n",
       "      <td>Ahmedabad</td>\n",
       "      <td>24-Mar-11</td>\n",
       "    </tr>\n",
       "    <tr>\n",
       "      <th>53</th>\n",
       "      <td>Australia</td>\n",
       "      <td>won</td>\n",
       "      <td>72 runs</td>\n",
       "      <td>NaN</td>\n",
       "      <td>India v Australia</td>\n",
       "      <td>Pune</td>\n",
       "      <td>13-Oct-13</td>\n",
       "    </tr>\n",
       "    <tr>\n",
       "      <th>54</th>\n",
       "      <td>India</td>\n",
       "      <td>won</td>\n",
       "      <td>9 wickets</td>\n",
       "      <td>39.0</td>\n",
       "      <td>India v Australia</td>\n",
       "      <td>Jaipur</td>\n",
       "      <td>16-Oct-13</td>\n",
       "    </tr>\n",
       "  </tbody>\n",
       "</table>\n",
       "</div>"
      ],
      "text/plain": [
       "       Winner Result     Margin    BR              Match              Ground  \\\n",
       "0   Australia    won     4 runs   NaN  India v Australia            Vadodara   \n",
       "1       India    won    99 runs   NaN  India v Australia              Nagpur   \n",
       "2       India    won  6 wickets  10.0  India v Australia               Delhi   \n",
       "3   Australia    won    24 runs   NaN  India v Australia              Mohali   \n",
       "4   Australia    won     3 runs   NaN  India v Australia  Hyderabad (Deccan)   \n",
       "5   Australia    won  6 wickets  49.0  India v Australia            Guwahati   \n",
       "16      India    won  5 wickets   7.0  India v Australia       Visakhapatnam   \n",
       "32      India    won  5 wickets  14.0  India v Australia           Ahmedabad   \n",
       "53  Australia    won    72 runs   NaN  India v Australia                Pune   \n",
       "54      India    won  9 wickets  39.0  India v Australia              Jaipur   \n",
       "\n",
       "   Start Date  \n",
       "0   25-Oct-09  \n",
       "1   28-Oct-09  \n",
       "2   31-Oct-09  \n",
       "3   02-Nov-09  \n",
       "4   05-Nov-09  \n",
       "5   08-Nov-09  \n",
       "16  20-Oct-10  \n",
       "32  24-Mar-11  \n",
       "53  13-Oct-13  \n",
       "54  16-Oct-13  "
      ]
     },
     "execution_count": 1029,
     "metadata": {},
     "output_type": "execute_result"
    }
   ],
   "source": [
    "df_series = df_series[~df_series.Winner.isnull()]\n",
    "df_series.head(10)"
   ]
  },
  {
   "cell_type": "code",
   "execution_count": 1030,
   "metadata": {},
   "outputs": [
    {
     "data": {
      "text/plain": [
       "(18, 7)"
      ]
     },
     "execution_count": 1030,
     "metadata": {},
     "output_type": "execute_result"
    }
   ],
   "source": [
    "df_series.shape"
   ]
  },
  {
   "cell_type": "code",
   "execution_count": 1031,
   "metadata": {},
   "outputs": [
    {
     "name": "stdout",
     "output_type": "stream",
     "text": [
      "<class 'pandas.core.frame.DataFrame'>\n",
      "Int64Index: 18 entries, 0 to 90\n",
      "Data columns (total 7 columns):\n",
      "Winner        18 non-null object\n",
      "Result        18 non-null object\n",
      "Margin        18 non-null object\n",
      "BR            9 non-null float64\n",
      "Match         18 non-null object\n",
      "Ground        18 non-null object\n",
      "Start Date    18 non-null object\n",
      "dtypes: float64(1), object(6)\n",
      "memory usage: 1.1+ KB\n"
     ]
    }
   ],
   "source": [
    "df_series.info()"
   ]
  },
  {
   "cell_type": "markdown",
   "metadata": {},
   "source": [
    "Let's visualize the match winners"
   ]
  },
  {
   "cell_type": "code",
   "execution_count": 1032,
   "metadata": {},
   "outputs": [
    {
     "data": {
      "text/plain": [
       "<matplotlib.axes._subplots.AxesSubplot at 0x253273fd6a0>"
      ]
     },
     "execution_count": 1032,
     "metadata": {},
     "output_type": "execute_result"
    },
    {
     "data": {
      "image/png": "[encoded data removed]",
      "text/plain": [
       "<Figure size 288x288 with 1 Axes>"
      ]
     },
     "metadata": {},
     "output_type": "display_data"
    }
   ],
   "source": [
    "plt.figure(figsize=(4,4))\n",
    "sns.countplot(x='Winner', data=df_series, order = df_series.Winner.value_counts().index)"
   ]
  },
  {
   "cell_type": "markdown",
   "metadata": {},
   "source": [
    "This data clearly shows India has a better winning ratio for matches played against Australia within India"
   ]
  },
  {
   "cell_type": "markdown",
   "metadata": {},
   "source": [
    "Let's also check the data of the last series."
   ]
  },
  {
   "cell_type": "markdown",
   "metadata": {},
   "source": [
    "#### Last series Analysis (held in Australia)"
   ]
  },
  {
   "cell_type": "code",
   "execution_count": 1131,
   "metadata": {},
   "outputs": [
    {
     "data": {
      "text/html": [
       "<div>\n",
       "<style scoped>\n",
       "    .dataframe tbody tr th:only-of-type {\n",
       "        vertical-align: middle;\n",
       "    }\n",
       "\n",
       "    .dataframe tbody tr th {\n",
       "        vertical-align: top;\n",
       "    }\n",
       "\n",
       "    .dataframe thead th {\n",
       "        text-align: right;\n",
       "    }\n",
       "</style>\n",
       "<table border=\"1\" class=\"dataframe\">\n",
       "  <thead>\n",
       "    <tr style=\"text-align: right;\">\n",
       "      <th></th>\n",
       "      <th>Winner</th>\n",
       "      <th>Result</th>\n",
       "      <th>Margin</th>\n",
       "      <th>BR</th>\n",
       "      <th>Match</th>\n",
       "      <th>Ground</th>\n",
       "      <th>Start Date</th>\n",
       "    </tr>\n",
       "  </thead>\n",
       "  <tbody>\n",
       "    <tr>\n",
       "      <th>0</th>\n",
       "      <td>India</td>\n",
       "      <td>won</td>\n",
       "      <td>7 wickets</td>\n",
       "      <td>4.0</td>\n",
       "      <td>Australia v India</td>\n",
       "      <td>Melbourne</td>\n",
       "      <td>18-Jan-19</td>\n",
       "    </tr>\n",
       "    <tr>\n",
       "      <th>1</th>\n",
       "      <td>India</td>\n",
       "      <td>won</td>\n",
       "      <td>6 wickets</td>\n",
       "      <td>4.0</td>\n",
       "      <td>Australia v India</td>\n",
       "      <td>Adelaide</td>\n",
       "      <td>15-Jan-19</td>\n",
       "    </tr>\n",
       "    <tr>\n",
       "      <th>2</th>\n",
       "      <td>Australia</td>\n",
       "      <td>won</td>\n",
       "      <td>34 runs</td>\n",
       "      <td>NaN</td>\n",
       "      <td>Australia v India</td>\n",
       "      <td>Sydney</td>\n",
       "      <td>12-Jan-19</td>\n",
       "    </tr>\n",
       "  </tbody>\n",
       "</table>\n",
       "</div>"
      ],
      "text/plain": [
       "      Winner Result     Margin   BR              Match     Ground Start Date\n",
       "0      India    won  7 wickets  4.0  Australia v India  Melbourne  18-Jan-19\n",
       "1      India    won  6 wickets  4.0  Australia v India   Adelaide  15-Jan-19\n",
       "2  Australia    won    34 runs  NaN  Australia v India     Sydney  12-Jan-19"
      ]
     },
     "execution_count": 1131,
     "metadata": {},
     "output_type": "execute_result"
    }
   ],
   "source": [
    "# Import and read dataset 2\n",
    "df_last_series = pd.read_csv('Last_Series_Stats.csv')\n",
    "df_last_series.head()"
   ]
  },
  {
   "cell_type": "code",
   "execution_count": 1034,
   "metadata": {
    "scrolled": true
   },
   "outputs": [
    {
     "data": {
      "text/html": [
       "<div>\n",
       "<style scoped>\n",
       "    .dataframe tbody tr th:only-of-type {\n",
       "        vertical-align: middle;\n",
       "    }\n",
       "\n",
       "    .dataframe tbody tr th {\n",
       "        vertical-align: top;\n",
       "    }\n",
       "\n",
       "    .dataframe thead th {\n",
       "        text-align: right;\n",
       "    }\n",
       "</style>\n",
       "<table border=\"1\" class=\"dataframe\">\n",
       "  <thead>\n",
       "    <tr style=\"text-align: right;\">\n",
       "      <th></th>\n",
       "      <th>Winner</th>\n",
       "      <th>Result</th>\n",
       "      <th>Margin</th>\n",
       "      <th>BR</th>\n",
       "      <th>Match</th>\n",
       "      <th>Ground</th>\n",
       "      <th>Start Date</th>\n",
       "    </tr>\n",
       "  </thead>\n",
       "  <tbody>\n",
       "    <tr>\n",
       "      <th>0</th>\n",
       "      <td>India</td>\n",
       "      <td>won</td>\n",
       "      <td>7 wickets</td>\n",
       "      <td>4.0</td>\n",
       "      <td>Australia v India</td>\n",
       "      <td>Melbourne</td>\n",
       "      <td>18-Jan-19</td>\n",
       "    </tr>\n",
       "    <tr>\n",
       "      <th>1</th>\n",
       "      <td>India</td>\n",
       "      <td>won</td>\n",
       "      <td>6 wickets</td>\n",
       "      <td>4.0</td>\n",
       "      <td>Australia v India</td>\n",
       "      <td>Adelaide</td>\n",
       "      <td>15-Jan-19</td>\n",
       "    </tr>\n",
       "    <tr>\n",
       "      <th>2</th>\n",
       "      <td>Australia</td>\n",
       "      <td>won</td>\n",
       "      <td>34 runs</td>\n",
       "      <td>NaN</td>\n",
       "      <td>Australia v India</td>\n",
       "      <td>Sydney</td>\n",
       "      <td>12-Jan-19</td>\n",
       "    </tr>\n",
       "  </tbody>\n",
       "</table>\n",
       "</div>"
      ],
      "text/plain": [
       "      Winner Result     Margin   BR              Match     Ground Start Date\n",
       "0      India    won  7 wickets  4.0  Australia v India  Melbourne  18-Jan-19\n",
       "1      India    won  6 wickets  4.0  Australia v India   Adelaide  15-Jan-19\n",
       "2  Australia    won    34 runs  NaN  Australia v India     Sydney  12-Jan-19"
      ]
     },
     "execution_count": 1034,
     "metadata": {},
     "output_type": "execute_result"
    }
   ],
   "source": [
    "df_last_series = df_last_series.dropna(how = 'all')\n",
    "df_last_series.head()"
   ]
  },
  {
   "cell_type": "code",
   "execution_count": 1035,
   "metadata": {},
   "outputs": [
    {
     "data": {
      "text/plain": [
       "<matplotlib.axes._subplots.AxesSubplot at 0x253275f2278>"
      ]
     },
     "execution_count": 1035,
     "metadata": {},
     "output_type": "execute_result"
    },
    {
     "data": {
      "image/png": "[encoded data removed]",
      "text/plain": [
       "<Figure size 288x288 with 1 Axes>"
      ]
     },
     "metadata": {},
     "output_type": "display_data"
    }
   ],
   "source": [
    "plt.figure(figsize=(4,4))\n",
    "sns.countplot(x='Winner', data=df_last_series, order = df_last_series.Winner.value_counts().index)"
   ]
  },
  {
   "cell_type": "markdown",
   "metadata": {},
   "source": [
    "In last ODI series between India and Australia, India has better winning ratio"
   ]
  },
  {
   "cell_type": "markdown",
   "metadata": {},
   "source": [
    "#### Winner of the series"
   ]
  },
  {
   "cell_type": "markdown",
   "metadata": {},
   "source": [
    "Observation:\n",
    " - India's record against Australia is good on Indian soil.\n",
    " - India's win against Austria in the last series shows that currently India is in good form. \n",
    "\n",
    "Conclusion:\n",
    " - **India will win the series against Australia.**"
   ]
  },
  {
   "cell_type": "markdown",
   "metadata": {},
   "source": [
    "Let's now predict the series output."
   ]
  },
  {
   "cell_type": "code",
   "execution_count": 1036,
   "metadata": {},
   "outputs": [],
   "source": [
    "# Concatenate the two dataframes\n",
    "df_series = pd.concat([df_series, df_last_series], ignore_index=True)"
   ]
  },
  {
   "cell_type": "code",
   "execution_count": 1037,
   "metadata": {},
   "outputs": [
    {
     "data": {
      "text/plain": [
       "(21, 7)"
      ]
     },
     "execution_count": 1037,
     "metadata": {},
     "output_type": "execute_result"
    }
   ],
   "source": [
    "df_series.shape"
   ]
  },
  {
   "cell_type": "markdown",
   "metadata": {},
   "source": [
    "Let's now check the series result from these matches"
   ]
  },
  {
   "cell_type": "code",
   "execution_count": 1038,
   "metadata": {},
   "outputs": [
    {
     "name": "stdout",
     "output_type": "stream",
     "text": [
      "<class 'pandas.core.frame.DataFrame'>\n",
      "RangeIndex: 21 entries, 0 to 20\n",
      "Data columns (total 7 columns):\n",
      "Winner        21 non-null object\n",
      "Result        21 non-null object\n",
      "Margin        21 non-null object\n",
      "BR            11 non-null float64\n",
      "Match         21 non-null object\n",
      "Ground        21 non-null object\n",
      "Start Date    21 non-null object\n",
      "dtypes: float64(1), object(6)\n",
      "memory usage: 1.2+ KB\n"
     ]
    }
   ],
   "source": [
    "df_series.info()"
   ]
  },
  {
   "cell_type": "code",
   "execution_count": 1039,
   "metadata": {},
   "outputs": [
    {
     "data": {
      "text/html": [
       "<div>\n",
       "<style scoped>\n",
       "    .dataframe tbody tr th:only-of-type {\n",
       "        vertical-align: middle;\n",
       "    }\n",
       "\n",
       "    .dataframe tbody tr th {\n",
       "        vertical-align: top;\n",
       "    }\n",
       "\n",
       "    .dataframe thead th {\n",
       "        text-align: right;\n",
       "    }\n",
       "</style>\n",
       "<table border=\"1\" class=\"dataframe\">\n",
       "  <thead>\n",
       "    <tr style=\"text-align: right;\">\n",
       "      <th></th>\n",
       "      <th>Winner</th>\n",
       "      <th>Result</th>\n",
       "      <th>Margin</th>\n",
       "      <th>BR</th>\n",
       "      <th>Match</th>\n",
       "      <th>Ground</th>\n",
       "      <th>Start Date</th>\n",
       "    </tr>\n",
       "  </thead>\n",
       "  <tbody>\n",
       "    <tr>\n",
       "      <th>0</th>\n",
       "      <td>Australia</td>\n",
       "      <td>won</td>\n",
       "      <td>4 runs</td>\n",
       "      <td>NaN</td>\n",
       "      <td>India v Australia</td>\n",
       "      <td>Vadodara</td>\n",
       "      <td>25-Oct-09</td>\n",
       "    </tr>\n",
       "    <tr>\n",
       "      <th>1</th>\n",
       "      <td>India</td>\n",
       "      <td>won</td>\n",
       "      <td>99 runs</td>\n",
       "      <td>NaN</td>\n",
       "      <td>India v Australia</td>\n",
       "      <td>Nagpur</td>\n",
       "      <td>28-Oct-09</td>\n",
       "    </tr>\n",
       "    <tr>\n",
       "      <th>2</th>\n",
       "      <td>India</td>\n",
       "      <td>won</td>\n",
       "      <td>6 wickets</td>\n",
       "      <td>10.0</td>\n",
       "      <td>India v Australia</td>\n",
       "      <td>Delhi</td>\n",
       "      <td>31-Oct-09</td>\n",
       "    </tr>\n",
       "    <tr>\n",
       "      <th>3</th>\n",
       "      <td>Australia</td>\n",
       "      <td>won</td>\n",
       "      <td>24 runs</td>\n",
       "      <td>NaN</td>\n",
       "      <td>India v Australia</td>\n",
       "      <td>Mohali</td>\n",
       "      <td>02-Nov-09</td>\n",
       "    </tr>\n",
       "    <tr>\n",
       "      <th>4</th>\n",
       "      <td>Australia</td>\n",
       "      <td>won</td>\n",
       "      <td>3 runs</td>\n",
       "      <td>NaN</td>\n",
       "      <td>India v Australia</td>\n",
       "      <td>Hyderabad (Deccan)</td>\n",
       "      <td>05-Nov-09</td>\n",
       "    </tr>\n",
       "    <tr>\n",
       "      <th>5</th>\n",
       "      <td>Australia</td>\n",
       "      <td>won</td>\n",
       "      <td>6 wickets</td>\n",
       "      <td>49.0</td>\n",
       "      <td>India v Australia</td>\n",
       "      <td>Guwahati</td>\n",
       "      <td>08-Nov-09</td>\n",
       "    </tr>\n",
       "    <tr>\n",
       "      <th>6</th>\n",
       "      <td>India</td>\n",
       "      <td>won</td>\n",
       "      <td>5 wickets</td>\n",
       "      <td>7.0</td>\n",
       "      <td>India v Australia</td>\n",
       "      <td>Visakhapatnam</td>\n",
       "      <td>20-Oct-10</td>\n",
       "    </tr>\n",
       "    <tr>\n",
       "      <th>7</th>\n",
       "      <td>India</td>\n",
       "      <td>won</td>\n",
       "      <td>5 wickets</td>\n",
       "      <td>14.0</td>\n",
       "      <td>India v Australia</td>\n",
       "      <td>Ahmedabad</td>\n",
       "      <td>24-Mar-11</td>\n",
       "    </tr>\n",
       "    <tr>\n",
       "      <th>8</th>\n",
       "      <td>Australia</td>\n",
       "      <td>won</td>\n",
       "      <td>72 runs</td>\n",
       "      <td>NaN</td>\n",
       "      <td>India v Australia</td>\n",
       "      <td>Pune</td>\n",
       "      <td>13-Oct-13</td>\n",
       "    </tr>\n",
       "    <tr>\n",
       "      <th>9</th>\n",
       "      <td>India</td>\n",
       "      <td>won</td>\n",
       "      <td>9 wickets</td>\n",
       "      <td>39.0</td>\n",
       "      <td>India v Australia</td>\n",
       "      <td>Jaipur</td>\n",
       "      <td>16-Oct-13</td>\n",
       "    </tr>\n",
       "    <tr>\n",
       "      <th>10</th>\n",
       "      <td>Australia</td>\n",
       "      <td>won</td>\n",
       "      <td>4 wickets</td>\n",
       "      <td>3.0</td>\n",
       "      <td>India v Australia</td>\n",
       "      <td>Mohali</td>\n",
       "      <td>19-Oct-13</td>\n",
       "    </tr>\n",
       "    <tr>\n",
       "      <th>11</th>\n",
       "      <td>India</td>\n",
       "      <td>won</td>\n",
       "      <td>6 wickets</td>\n",
       "      <td>3.0</td>\n",
       "      <td>India v Australia</td>\n",
       "      <td>Nagpur</td>\n",
       "      <td>30-Oct-13</td>\n",
       "    </tr>\n",
       "    <tr>\n",
       "      <th>12</th>\n",
       "      <td>India</td>\n",
       "      <td>won</td>\n",
       "      <td>57 runs</td>\n",
       "      <td>NaN</td>\n",
       "      <td>India v Australia</td>\n",
       "      <td>Bengaluru</td>\n",
       "      <td>02-Nov-13</td>\n",
       "    </tr>\n",
       "    <tr>\n",
       "      <th>13</th>\n",
       "      <td>India</td>\n",
       "      <td>won</td>\n",
       "      <td>26 runs</td>\n",
       "      <td>NaN</td>\n",
       "      <td>India v Australia</td>\n",
       "      <td>Chennai</td>\n",
       "      <td>17-Sep-17</td>\n",
       "    </tr>\n",
       "    <tr>\n",
       "      <th>14</th>\n",
       "      <td>India</td>\n",
       "      <td>won</td>\n",
       "      <td>50 runs</td>\n",
       "      <td>NaN</td>\n",
       "      <td>India v Australia</td>\n",
       "      <td>Kolkata</td>\n",
       "      <td>21-Sep-17</td>\n",
       "    </tr>\n",
       "    <tr>\n",
       "      <th>15</th>\n",
       "      <td>India</td>\n",
       "      <td>won</td>\n",
       "      <td>5 wickets</td>\n",
       "      <td>13.0</td>\n",
       "      <td>India v Australia</td>\n",
       "      <td>Indore</td>\n",
       "      <td>24-Sep-17</td>\n",
       "    </tr>\n",
       "    <tr>\n",
       "      <th>16</th>\n",
       "      <td>Australia</td>\n",
       "      <td>won</td>\n",
       "      <td>21 runs</td>\n",
       "      <td>NaN</td>\n",
       "      <td>India v Australia</td>\n",
       "      <td>Bengaluru</td>\n",
       "      <td>28-Sep-17</td>\n",
       "    </tr>\n",
       "    <tr>\n",
       "      <th>17</th>\n",
       "      <td>India</td>\n",
       "      <td>won</td>\n",
       "      <td>7 wickets</td>\n",
       "      <td>43.0</td>\n",
       "      <td>India v Australia</td>\n",
       "      <td>Nagpur</td>\n",
       "      <td>01-Oct-17</td>\n",
       "    </tr>\n",
       "    <tr>\n",
       "      <th>18</th>\n",
       "      <td>India</td>\n",
       "      <td>won</td>\n",
       "      <td>7 wickets</td>\n",
       "      <td>4.0</td>\n",
       "      <td>Australia v India</td>\n",
       "      <td>Melbourne</td>\n",
       "      <td>18-Jan-19</td>\n",
       "    </tr>\n",
       "    <tr>\n",
       "      <th>19</th>\n",
       "      <td>India</td>\n",
       "      <td>won</td>\n",
       "      <td>6 wickets</td>\n",
       "      <td>4.0</td>\n",
       "      <td>Australia v India</td>\n",
       "      <td>Adelaide</td>\n",
       "      <td>15-Jan-19</td>\n",
       "    </tr>\n",
       "    <tr>\n",
       "      <th>20</th>\n",
       "      <td>Australia</td>\n",
       "      <td>won</td>\n",
       "      <td>34 runs</td>\n",
       "      <td>NaN</td>\n",
       "      <td>Australia v India</td>\n",
       "      <td>Sydney</td>\n",
       "      <td>12-Jan-19</td>\n",
       "    </tr>\n",
       "  </tbody>\n",
       "</table>\n",
       "</div>"
      ],
      "text/plain": [
       "       Winner Result     Margin    BR              Match              Ground  \\\n",
       "0   Australia    won     4 runs   NaN  India v Australia            Vadodara   \n",
       "1       India    won    99 runs   NaN  India v Australia              Nagpur   \n",
       "2       India    won  6 wickets  10.0  India v Australia               Delhi   \n",
       "3   Australia    won    24 runs   NaN  India v Australia              Mohali   \n",
       "4   Australia    won     3 runs   NaN  India v Australia  Hyderabad (Deccan)   \n",
       "5   Australia    won  6 wickets  49.0  India v Australia            Guwahati   \n",
       "6       India    won  5 wickets   7.0  India v Australia       Visakhapatnam   \n",
       "7       India    won  5 wickets  14.0  India v Australia           Ahmedabad   \n",
       "8   Australia    won    72 runs   NaN  India v Australia                Pune   \n",
       "9       India    won  9 wickets  39.0  India v Australia              Jaipur   \n",
       "10  Australia    won  4 wickets   3.0  India v Australia              Mohali   \n",
       "11      India    won  6 wickets   3.0  India v Australia              Nagpur   \n",
       "12      India    won    57 runs   NaN  India v Australia           Bengaluru   \n",
       "13      India    won    26 runs   NaN  India v Australia             Chennai   \n",
       "14      India    won    50 runs   NaN  India v Australia             Kolkata   \n",
       "15      India    won  5 wickets  13.0  India v Australia              Indore   \n",
       "16  Australia    won    21 runs   NaN  India v Australia           Bengaluru   \n",
       "17      India    won  7 wickets  43.0  India v Australia              Nagpur   \n",
       "18      India    won  7 wickets   4.0  Australia v India           Melbourne   \n",
       "19      India    won  6 wickets   4.0  Australia v India            Adelaide   \n",
       "20  Australia    won    34 runs   NaN  Australia v India              Sydney   \n",
       "\n",
       "   Start Date  \n",
       "0   25-Oct-09  \n",
       "1   28-Oct-09  \n",
       "2   31-Oct-09  \n",
       "3   02-Nov-09  \n",
       "4   05-Nov-09  \n",
       "5   08-Nov-09  \n",
       "6   20-Oct-10  \n",
       "7   24-Mar-11  \n",
       "8   13-Oct-13  \n",
       "9   16-Oct-13  \n",
       "10  19-Oct-13  \n",
       "11  30-Oct-13  \n",
       "12  02-Nov-13  \n",
       "13  17-Sep-17  \n",
       "14  21-Sep-17  \n",
       "15  24-Sep-17  \n",
       "16  28-Sep-17  \n",
       "17  01-Oct-17  \n",
       "18  18-Jan-19  \n",
       "19  15-Jan-19  \n",
       "20  12-Jan-19  "
      ]
     },
     "execution_count": 1039,
     "metadata": {},
     "output_type": "execute_result"
    }
   ],
   "source": [
    "df_series"
   ]
  },
  {
   "cell_type": "code",
   "execution_count": 1040,
   "metadata": {},
   "outputs": [],
   "source": [
    "# Convert 'Start Date' to date\n",
    "df_series['Start Date'] = pd.to_datetime(df_series['Start Date'])"
   ]
  },
  {
   "cell_type": "code",
   "execution_count": 1041,
   "metadata": {},
   "outputs": [],
   "source": [
    "df_series['Year'] = pd.DatetimeIndex(df_series['Start Date']).year"
   ]
  },
  {
   "cell_type": "code",
   "execution_count": 1042,
   "metadata": {
    "scrolled": true
   },
   "outputs": [
    {
     "data": {
      "text/html": [
       "<div>\n",
       "<style scoped>\n",
       "    .dataframe tbody tr th:only-of-type {\n",
       "        vertical-align: middle;\n",
       "    }\n",
       "\n",
       "    .dataframe tbody tr th {\n",
       "        vertical-align: top;\n",
       "    }\n",
       "\n",
       "    .dataframe thead th {\n",
       "        text-align: right;\n",
       "    }\n",
       "</style>\n",
       "<table border=\"1\" class=\"dataframe\">\n",
       "  <thead>\n",
       "    <tr style=\"text-align: right;\">\n",
       "      <th></th>\n",
       "      <th>Winner</th>\n",
       "      <th>Result</th>\n",
       "      <th>Margin</th>\n",
       "      <th>BR</th>\n",
       "      <th>Match</th>\n",
       "      <th>Ground</th>\n",
       "      <th>Start Date</th>\n",
       "      <th>Year</th>\n",
       "    </tr>\n",
       "  </thead>\n",
       "  <tbody>\n",
       "    <tr>\n",
       "      <th>0</th>\n",
       "      <td>Australia</td>\n",
       "      <td>won</td>\n",
       "      <td>4 runs</td>\n",
       "      <td>NaN</td>\n",
       "      <td>India v Australia</td>\n",
       "      <td>Vadodara</td>\n",
       "      <td>2009-10-25</td>\n",
       "      <td>2009</td>\n",
       "    </tr>\n",
       "    <tr>\n",
       "      <th>1</th>\n",
       "      <td>India</td>\n",
       "      <td>won</td>\n",
       "      <td>99 runs</td>\n",
       "      <td>NaN</td>\n",
       "      <td>India v Australia</td>\n",
       "      <td>Nagpur</td>\n",
       "      <td>2009-10-28</td>\n",
       "      <td>2009</td>\n",
       "    </tr>\n",
       "    <tr>\n",
       "      <th>2</th>\n",
       "      <td>India</td>\n",
       "      <td>won</td>\n",
       "      <td>6 wickets</td>\n",
       "      <td>10.0</td>\n",
       "      <td>India v Australia</td>\n",
       "      <td>Delhi</td>\n",
       "      <td>2009-10-31</td>\n",
       "      <td>2009</td>\n",
       "    </tr>\n",
       "    <tr>\n",
       "      <th>3</th>\n",
       "      <td>Australia</td>\n",
       "      <td>won</td>\n",
       "      <td>24 runs</td>\n",
       "      <td>NaN</td>\n",
       "      <td>India v Australia</td>\n",
       "      <td>Mohali</td>\n",
       "      <td>2009-11-02</td>\n",
       "      <td>2009</td>\n",
       "    </tr>\n",
       "    <tr>\n",
       "      <th>4</th>\n",
       "      <td>Australia</td>\n",
       "      <td>won</td>\n",
       "      <td>3 runs</td>\n",
       "      <td>NaN</td>\n",
       "      <td>India v Australia</td>\n",
       "      <td>Hyderabad (Deccan)</td>\n",
       "      <td>2009-11-05</td>\n",
       "      <td>2009</td>\n",
       "    </tr>\n",
       "  </tbody>\n",
       "</table>\n",
       "</div>"
      ],
      "text/plain": [
       "      Winner Result     Margin    BR              Match              Ground  \\\n",
       "0  Australia    won     4 runs   NaN  India v Australia            Vadodara   \n",
       "1      India    won    99 runs   NaN  India v Australia              Nagpur   \n",
       "2      India    won  6 wickets  10.0  India v Australia               Delhi   \n",
       "3  Australia    won    24 runs   NaN  India v Australia              Mohali   \n",
       "4  Australia    won     3 runs   NaN  India v Australia  Hyderabad (Deccan)   \n",
       "\n",
       "  Start Date  Year  \n",
       "0 2009-10-25  2009  \n",
       "1 2009-10-28  2009  \n",
       "2 2009-10-31  2009  \n",
       "3 2009-11-02  2009  \n",
       "4 2009-11-05  2009  "
      ]
     },
     "execution_count": 1042,
     "metadata": {},
     "output_type": "execute_result"
    }
   ],
   "source": [
    "df_series.head()"
   ]
  },
  {
   "cell_type": "code",
   "execution_count": 1043,
   "metadata": {},
   "outputs": [],
   "source": [
    "g_series = df_series.groupby(['Year'])"
   ]
  },
  {
   "cell_type": "code",
   "execution_count": 1044,
   "metadata": {},
   "outputs": [
    {
     "name": "stdout",
     "output_type": "stream",
     "text": [
      "2009\n",
      "2010\n",
      "2011\n",
      "2013\n",
      "2017\n",
      "2019\n"
     ]
    }
   ],
   "source": [
    "for key, val in g_series:\n",
    "    print(key)"
   ]
  },
  {
   "cell_type": "markdown",
   "metadata": {},
   "source": [
    "Of these series let's consider the last two series, one of which was played in India and other in Australia"
   ]
  },
  {
   "cell_type": "code",
   "execution_count": 1045,
   "metadata": {},
   "outputs": [
    {
     "data": {
      "text/html": [
       "<div>\n",
       "<style scoped>\n",
       "    .dataframe tbody tr th:only-of-type {\n",
       "        vertical-align: middle;\n",
       "    }\n",
       "\n",
       "    .dataframe tbody tr th {\n",
       "        vertical-align: top;\n",
       "    }\n",
       "\n",
       "    .dataframe thead th {\n",
       "        text-align: right;\n",
       "    }\n",
       "</style>\n",
       "<table border=\"1\" class=\"dataframe\">\n",
       "  <thead>\n",
       "    <tr style=\"text-align: right;\">\n",
       "      <th></th>\n",
       "      <th>Winner</th>\n",
       "      <th>Result</th>\n",
       "      <th>Margin</th>\n",
       "      <th>BR</th>\n",
       "      <th>Match</th>\n",
       "      <th>Ground</th>\n",
       "      <th>Start Date</th>\n",
       "      <th>Year</th>\n",
       "    </tr>\n",
       "  </thead>\n",
       "  <tbody>\n",
       "    <tr>\n",
       "      <th>13</th>\n",
       "      <td>India</td>\n",
       "      <td>won</td>\n",
       "      <td>26 runs</td>\n",
       "      <td>NaN</td>\n",
       "      <td>India v Australia</td>\n",
       "      <td>Chennai</td>\n",
       "      <td>2017-09-17</td>\n",
       "      <td>2017</td>\n",
       "    </tr>\n",
       "    <tr>\n",
       "      <th>14</th>\n",
       "      <td>India</td>\n",
       "      <td>won</td>\n",
       "      <td>50 runs</td>\n",
       "      <td>NaN</td>\n",
       "      <td>India v Australia</td>\n",
       "      <td>Kolkata</td>\n",
       "      <td>2017-09-21</td>\n",
       "      <td>2017</td>\n",
       "    </tr>\n",
       "    <tr>\n",
       "      <th>15</th>\n",
       "      <td>India</td>\n",
       "      <td>won</td>\n",
       "      <td>5 wickets</td>\n",
       "      <td>13.0</td>\n",
       "      <td>India v Australia</td>\n",
       "      <td>Indore</td>\n",
       "      <td>2017-09-24</td>\n",
       "      <td>2017</td>\n",
       "    </tr>\n",
       "    <tr>\n",
       "      <th>16</th>\n",
       "      <td>Australia</td>\n",
       "      <td>won</td>\n",
       "      <td>21 runs</td>\n",
       "      <td>NaN</td>\n",
       "      <td>India v Australia</td>\n",
       "      <td>Bengaluru</td>\n",
       "      <td>2017-09-28</td>\n",
       "      <td>2017</td>\n",
       "    </tr>\n",
       "    <tr>\n",
       "      <th>17</th>\n",
       "      <td>India</td>\n",
       "      <td>won</td>\n",
       "      <td>7 wickets</td>\n",
       "      <td>43.0</td>\n",
       "      <td>India v Australia</td>\n",
       "      <td>Nagpur</td>\n",
       "      <td>2017-10-01</td>\n",
       "      <td>2017</td>\n",
       "    </tr>\n",
       "  </tbody>\n",
       "</table>\n",
       "</div>"
      ],
      "text/plain": [
       "       Winner Result     Margin    BR              Match     Ground  \\\n",
       "13      India    won    26 runs   NaN  India v Australia    Chennai   \n",
       "14      India    won    50 runs   NaN  India v Australia    Kolkata   \n",
       "15      India    won  5 wickets  13.0  India v Australia     Indore   \n",
       "16  Australia    won    21 runs   NaN  India v Australia  Bengaluru   \n",
       "17      India    won  7 wickets  43.0  India v Australia     Nagpur   \n",
       "\n",
       "   Start Date  Year  \n",
       "13 2017-09-17  2017  \n",
       "14 2017-09-21  2017  \n",
       "15 2017-09-24  2017  \n",
       "16 2017-09-28  2017  \n",
       "17 2017-10-01  2017  "
      ]
     },
     "execution_count": 1045,
     "metadata": {},
     "output_type": "execute_result"
    }
   ],
   "source": [
    "# Series in India\n",
    "g_series.get_group(2017)"
   ]
  },
  {
   "cell_type": "markdown",
   "metadata": {},
   "source": [
    "In 2017 series (played in India), India lost only one match to Australia."
   ]
  },
  {
   "cell_type": "code",
   "execution_count": 1046,
   "metadata": {},
   "outputs": [
    {
     "data": {
      "text/html": [
       "<div>\n",
       "<style scoped>\n",
       "    .dataframe tbody tr th:only-of-type {\n",
       "        vertical-align: middle;\n",
       "    }\n",
       "\n",
       "    .dataframe tbody tr th {\n",
       "        vertical-align: top;\n",
       "    }\n",
       "\n",
       "    .dataframe thead th {\n",
       "        text-align: right;\n",
       "    }\n",
       "</style>\n",
       "<table border=\"1\" class=\"dataframe\">\n",
       "  <thead>\n",
       "    <tr style=\"text-align: right;\">\n",
       "      <th></th>\n",
       "      <th>Winner</th>\n",
       "      <th>Result</th>\n",
       "      <th>Margin</th>\n",
       "      <th>BR</th>\n",
       "      <th>Match</th>\n",
       "      <th>Ground</th>\n",
       "      <th>Start Date</th>\n",
       "      <th>Year</th>\n",
       "    </tr>\n",
       "  </thead>\n",
       "  <tbody>\n",
       "    <tr>\n",
       "      <th>18</th>\n",
       "      <td>India</td>\n",
       "      <td>won</td>\n",
       "      <td>7 wickets</td>\n",
       "      <td>4.0</td>\n",
       "      <td>Australia v India</td>\n",
       "      <td>Melbourne</td>\n",
       "      <td>2019-01-18</td>\n",
       "      <td>2019</td>\n",
       "    </tr>\n",
       "    <tr>\n",
       "      <th>19</th>\n",
       "      <td>India</td>\n",
       "      <td>won</td>\n",
       "      <td>6 wickets</td>\n",
       "      <td>4.0</td>\n",
       "      <td>Australia v India</td>\n",
       "      <td>Adelaide</td>\n",
       "      <td>2019-01-15</td>\n",
       "      <td>2019</td>\n",
       "    </tr>\n",
       "    <tr>\n",
       "      <th>20</th>\n",
       "      <td>Australia</td>\n",
       "      <td>won</td>\n",
       "      <td>34 runs</td>\n",
       "      <td>NaN</td>\n",
       "      <td>Australia v India</td>\n",
       "      <td>Sydney</td>\n",
       "      <td>2019-01-12</td>\n",
       "      <td>2019</td>\n",
       "    </tr>\n",
       "  </tbody>\n",
       "</table>\n",
       "</div>"
      ],
      "text/plain": [
       "       Winner Result     Margin   BR              Match     Ground Start Date  \\\n",
       "18      India    won  7 wickets  4.0  Australia v India  Melbourne 2019-01-18   \n",
       "19      India    won  6 wickets  4.0  Australia v India   Adelaide 2019-01-15   \n",
       "20  Australia    won    34 runs  NaN  Australia v India     Sydney 2019-01-12   \n",
       "\n",
       "    Year  \n",
       "18  2019  \n",
       "19  2019  \n",
       "20  2019  "
      ]
     },
     "execution_count": 1046,
     "metadata": {},
     "output_type": "execute_result"
    }
   ],
   "source": [
    "# Series in Australia\n",
    "g_series.get_group(2019)"
   ]
  },
  {
   "cell_type": "markdown",
   "metadata": {},
   "source": [
    "In this series again, which was played in Australia in 2019, India lost only one match to Australia."
   ]
  },
  {
   "cell_type": "markdown",
   "metadata": {},
   "source": [
    "#### Series output"
   ]
  },
  {
   "cell_type": "markdown",
   "metadata": {},
   "source": [
    "So, considering the last few series against Australia, we can conclude India is currently in good form and can lose at max 1 match against Australia. "
   ]
  },
  {
   "cell_type": "markdown",
   "metadata": {},
   "source": [
    "Conlclusion:\n",
    "- **India will win the series by 4-1.**"
   ]
  },
  {
   "cell_type": "markdown",
   "metadata": {},
   "source": [
    "Let's now read the Batting Statistics"
   ]
  },
  {
   "cell_type": "code",
   "execution_count": 1047,
   "metadata": {},
   "outputs": [
    {
     "data": {
      "text/html": [
       "<div>\n",
       "<style scoped>\n",
       "    .dataframe tbody tr th:only-of-type {\n",
       "        vertical-align: middle;\n",
       "    }\n",
       "\n",
       "    .dataframe tbody tr th {\n",
       "        vertical-align: top;\n",
       "    }\n",
       "\n",
       "    .dataframe thead th {\n",
       "        text-align: right;\n",
       "    }\n",
       "</style>\n",
       "<table border=\"1\" class=\"dataframe\">\n",
       "  <thead>\n",
       "    <tr style=\"text-align: right;\">\n",
       "      <th></th>\n",
       "      <th>Player</th>\n",
       "      <th>Mat</th>\n",
       "      <th>Inns</th>\n",
       "      <th>NO</th>\n",
       "      <th>Runs</th>\n",
       "      <th>HS</th>\n",
       "      <th>Ave</th>\n",
       "      <th>BF</th>\n",
       "      <th>SR</th>\n",
       "      <th>100</th>\n",
       "      <th>50</th>\n",
       "      <th>0</th>\n",
       "      <th>4s</th>\n",
       "      <th>6s</th>\n",
       "    </tr>\n",
       "  </thead>\n",
       "  <tbody>\n",
       "    <tr>\n",
       "      <th>0</th>\n",
       "      <td>RG Sharma (INDIA)</td>\n",
       "      <td>27</td>\n",
       "      <td>27</td>\n",
       "      <td>5</td>\n",
       "      <td>1384</td>\n",
       "      <td>162</td>\n",
       "      <td>62.9</td>\n",
       "      <td>1463</td>\n",
       "      <td>94.60</td>\n",
       "      <td>6</td>\n",
       "      <td>5</td>\n",
       "      <td>1</td>\n",
       "      <td>130</td>\n",
       "      <td>52</td>\n",
       "    </tr>\n",
       "    <tr>\n",
       "      <th>1</th>\n",
       "      <td>AT Rayudu (INDIA)</td>\n",
       "      <td>18</td>\n",
       "      <td>17</td>\n",
       "      <td>5</td>\n",
       "      <td>606</td>\n",
       "      <td>100</td>\n",
       "      <td>50.5</td>\n",
       "      <td>701</td>\n",
       "      <td>86.44</td>\n",
       "      <td>1</td>\n",
       "      <td>4</td>\n",
       "      <td>2</td>\n",
       "      <td>51</td>\n",
       "      <td>17</td>\n",
       "    </tr>\n",
       "    <tr>\n",
       "      <th>2</th>\n",
       "      <td>V Kohli (INDIA)</td>\n",
       "      <td>20</td>\n",
       "      <td>20</td>\n",
       "      <td>5</td>\n",
       "      <td>1503</td>\n",
       "      <td>160*</td>\n",
       "      <td>100.2</td>\n",
       "      <td>1532</td>\n",
       "      <td>98.10</td>\n",
       "      <td>7</td>\n",
       "      <td>4</td>\n",
       "      <td>0</td>\n",
       "      <td>145</td>\n",
       "      <td>16</td>\n",
       "    </tr>\n",
       "    <tr>\n",
       "      <th>3</th>\n",
       "      <td>MP Stoinis (AUS)</td>\n",
       "      <td>16</td>\n",
       "      <td>16</td>\n",
       "      <td>1</td>\n",
       "      <td>462</td>\n",
       "      <td>87</td>\n",
       "      <td>30.8</td>\n",
       "      <td>488</td>\n",
       "      <td>94.67</td>\n",
       "      <td>0</td>\n",
       "      <td>4</td>\n",
       "      <td>1</td>\n",
       "      <td>34</td>\n",
       "      <td>16</td>\n",
       "    </tr>\n",
       "    <tr>\n",
       "      <th>4</th>\n",
       "      <td>SE Marsh (AUS)</td>\n",
       "      <td>10</td>\n",
       "      <td>10</td>\n",
       "      <td>0</td>\n",
       "      <td>640</td>\n",
       "      <td>131</td>\n",
       "      <td>64</td>\n",
       "      <td>655</td>\n",
       "      <td>97.70</td>\n",
       "      <td>4</td>\n",
       "      <td>1</td>\n",
       "      <td>0</td>\n",
       "      <td>46</td>\n",
       "      <td>15</td>\n",
       "    </tr>\n",
       "  </tbody>\n",
       "</table>\n",
       "</div>"
      ],
      "text/plain": [
       "              Player  Mat  Inns  NO  Runs    HS    Ave    BF     SR  100  50  \\\n",
       "0  RG Sharma (INDIA)   27    27   5  1384   162   62.9  1463  94.60    6   5   \n",
       "1  AT Rayudu (INDIA)   18    17   5   606   100   50.5   701  86.44    1   4   \n",
       "2    V Kohli (INDIA)   20    20   5  1503  160*  100.2  1532  98.10    7   4   \n",
       "3   MP Stoinis (AUS)   16    16   1   462    87   30.8   488  94.67    0   4   \n",
       "4     SE Marsh (AUS)   10    10   0   640   131     64   655  97.70    4   1   \n",
       "\n",
       "   0   4s  6s  \n",
       "0  1  130  52  \n",
       "1  2   51  17  \n",
       "2  0  145  16  \n",
       "3  1   34  16  \n",
       "4  0   46  15  "
      ]
     },
     "execution_count": 1047,
     "metadata": {},
     "output_type": "execute_result"
    }
   ],
   "source": [
    "# Read batting stats\n",
    "df_bat = pd.read_csv('Batting_Stats.csv')\n",
    "df_bat.head()"
   ]
  },
  {
   "cell_type": "code",
   "execution_count": 1048,
   "metadata": {},
   "outputs": [
    {
     "data": {
      "text/plain": [
       "(50, 14)"
      ]
     },
     "execution_count": 1048,
     "metadata": {},
     "output_type": "execute_result"
    }
   ],
   "source": [
    "df_bat.shape"
   ]
  },
  {
   "cell_type": "code",
   "execution_count": 1049,
   "metadata": {},
   "outputs": [
    {
     "name": "stdout",
     "output_type": "stream",
     "text": [
      "<class 'pandas.core.frame.DataFrame'>\n",
      "RangeIndex: 50 entries, 0 to 49\n",
      "Data columns (total 14 columns):\n",
      "Player    50 non-null object\n",
      "Mat       50 non-null int64\n",
      "Inns      50 non-null int64\n",
      "NO        50 non-null int64\n",
      "Runs      50 non-null int64\n",
      "HS        50 non-null object\n",
      "Ave       50 non-null object\n",
      "BF        50 non-null int64\n",
      "SR        50 non-null float64\n",
      "100       50 non-null int64\n",
      "50        50 non-null int64\n",
      "0         50 non-null int64\n",
      "4s        50 non-null int64\n",
      "6s        50 non-null int64\n",
      "dtypes: float64(1), int64(10), object(3)\n",
      "memory usage: 5.5+ KB\n"
     ]
    }
   ],
   "source": [
    "df_bat.info()"
   ]
  },
  {
   "cell_type": "code",
   "execution_count": 1050,
   "metadata": {},
   "outputs": [
    {
     "name": "stdout",
     "output_type": "stream",
     "text": [
      "False\n",
      "0\n"
     ]
    }
   ],
   "source": [
    "# Check for NaN values in dataset\n",
    "print(df_bat.isnull().values.any())\n",
    "print(df_bat.isnull().values.sum())"
   ]
  },
  {
   "cell_type": "markdown",
   "metadata": {},
   "source": [
    "There are no NaN values in the dataset."
   ]
  },
  {
   "cell_type": "code",
   "execution_count": 1051,
   "metadata": {},
   "outputs": [
    {
     "data": {
      "text/plain": [
       "True"
      ]
     },
     "execution_count": 1051,
     "metadata": {},
     "output_type": "execute_result"
    }
   ],
   "source": [
    "# Let's make sure that there are no duplicate rows in the dataset\n",
    "sum(df_bat.duplicated(subset = 'Player')) == 0"
   ]
  },
  {
   "cell_type": "markdown",
   "metadata": {},
   "source": [
    "There are no duplicate rows in the dataset."
   ]
  },
  {
   "cell_type": "code",
   "execution_count": 1052,
   "metadata": {},
   "outputs": [
    {
     "data": {
      "text/plain": [
       "0     162\n",
       "1     100\n",
       "2    160*\n",
       "3      87\n",
       "4     131\n",
       "Name: HS, dtype: object"
      ]
     },
     "execution_count": 1052,
     "metadata": {},
     "output_type": "execute_result"
    }
   ],
   "source": [
    "# Convert datatypes\n",
    "df_bat.HS.head()"
   ]
  },
  {
   "cell_type": "code",
   "execution_count": 1053,
   "metadata": {},
   "outputs": [],
   "source": [
    "df_bat.HS = df_bat.HS.apply(lambda x : x.rstrip('*'))"
   ]
  },
  {
   "cell_type": "code",
   "execution_count": 1054,
   "metadata": {},
   "outputs": [
    {
     "data": {
      "text/plain": [
       "0    162\n",
       "1    100\n",
       "2    160\n",
       "3     87\n",
       "4    131\n",
       "Name: HS, dtype: object"
      ]
     },
     "execution_count": 1054,
     "metadata": {},
     "output_type": "execute_result"
    }
   ],
   "source": [
    "df_bat.HS.head()"
   ]
  },
  {
   "cell_type": "code",
   "execution_count": 1055,
   "metadata": {},
   "outputs": [
    {
     "data": {
      "text/plain": [
       "0    162\n",
       "1    100\n",
       "2    160\n",
       "3     87\n",
       "4    131\n",
       "Name: HS, dtype: int64"
      ]
     },
     "execution_count": 1055,
     "metadata": {},
     "output_type": "execute_result"
    }
   ],
   "source": [
    "df_bat.HS = pd.to_numeric(df_bat.HS)\n",
    "df_bat.HS.head()"
   ]
  },
  {
   "cell_type": "code",
   "execution_count": 1056,
   "metadata": {},
   "outputs": [
    {
     "data": {
      "text/plain": [
       "0     62.9\n",
       "1     50.5\n",
       "2    100.2\n",
       "3     30.8\n",
       "4     64.0\n",
       "Name: Ave, dtype: float64"
      ]
     },
     "execution_count": 1056,
     "metadata": {},
     "output_type": "execute_result"
    }
   ],
   "source": [
    "df_bat.Ave = df_bat.Ave.replace('-', 0)\n",
    "\n",
    "df_bat.Ave = pd.to_numeric(df_bat.Ave)\n",
    "\n",
    "df_bat.Ave.head()"
   ]
  },
  {
   "cell_type": "code",
   "execution_count": 1057,
   "metadata": {},
   "outputs": [
    {
     "data": {
      "text/html": [
       "<div>\n",
       "<style scoped>\n",
       "    .dataframe tbody tr th:only-of-type {\n",
       "        vertical-align: middle;\n",
       "    }\n",
       "\n",
       "    .dataframe tbody tr th {\n",
       "        vertical-align: top;\n",
       "    }\n",
       "\n",
       "    .dataframe thead th {\n",
       "        text-align: right;\n",
       "    }\n",
       "</style>\n",
       "<table border=\"1\" class=\"dataframe\">\n",
       "  <thead>\n",
       "    <tr style=\"text-align: right;\">\n",
       "      <th></th>\n",
       "      <th>Mat</th>\n",
       "      <th>Inns</th>\n",
       "      <th>NO</th>\n",
       "      <th>Runs</th>\n",
       "      <th>HS</th>\n",
       "      <th>Ave</th>\n",
       "      <th>BF</th>\n",
       "      <th>SR</th>\n",
       "      <th>100</th>\n",
       "      <th>50</th>\n",
       "      <th>0</th>\n",
       "      <th>4s</th>\n",
       "      <th>6s</th>\n",
       "    </tr>\n",
       "  </thead>\n",
       "  <tbody>\n",
       "    <tr>\n",
       "      <th>count</th>\n",
       "      <td>50.000000</td>\n",
       "      <td>50.000000</td>\n",
       "      <td>50.000000</td>\n",
       "      <td>50.000000</td>\n",
       "      <td>50.000000</td>\n",
       "      <td>50.000000</td>\n",
       "      <td>50.000000</td>\n",
       "      <td>50.000000</td>\n",
       "      <td>50.00000</td>\n",
       "      <td>50.000000</td>\n",
       "      <td>50.000000</td>\n",
       "      <td>50.000000</td>\n",
       "      <td>50.000000</td>\n",
       "    </tr>\n",
       "    <tr>\n",
       "      <th>mean</th>\n",
       "      <td>9.040000</td>\n",
       "      <td>6.720000</td>\n",
       "      <td>1.380000</td>\n",
       "      <td>203.980000</td>\n",
       "      <td>45.640000</td>\n",
       "      <td>25.750400</td>\n",
       "      <td>228.500000</td>\n",
       "      <td>79.711400</td>\n",
       "      <td>0.48000</td>\n",
       "      <td>0.780000</td>\n",
       "      <td>0.340000</td>\n",
       "      <td>18.620000</td>\n",
       "      <td>3.800000</td>\n",
       "    </tr>\n",
       "    <tr>\n",
       "      <th>std</th>\n",
       "      <td>7.623701</td>\n",
       "      <td>6.372902</td>\n",
       "      <td>1.748352</td>\n",
       "      <td>335.053422</td>\n",
       "      <td>41.048881</td>\n",
       "      <td>19.618573</td>\n",
       "      <td>351.287152</td>\n",
       "      <td>24.336552</td>\n",
       "      <td>1.48791</td>\n",
       "      <td>1.418392</td>\n",
       "      <td>0.519419</td>\n",
       "      <td>34.716866</td>\n",
       "      <td>8.427361</td>\n",
       "    </tr>\n",
       "    <tr>\n",
       "      <th>min</th>\n",
       "      <td>1.000000</td>\n",
       "      <td>1.000000</td>\n",
       "      <td>0.000000</td>\n",
       "      <td>0.000000</td>\n",
       "      <td>0.000000</td>\n",
       "      <td>0.000000</td>\n",
       "      <td>1.000000</td>\n",
       "      <td>0.000000</td>\n",
       "      <td>0.00000</td>\n",
       "      <td>0.000000</td>\n",
       "      <td>0.000000</td>\n",
       "      <td>0.000000</td>\n",
       "      <td>0.000000</td>\n",
       "    </tr>\n",
       "    <tr>\n",
       "      <th>25%</th>\n",
       "      <td>3.000000</td>\n",
       "      <td>2.000000</td>\n",
       "      <td>0.000000</td>\n",
       "      <td>17.500000</td>\n",
       "      <td>12.500000</td>\n",
       "      <td>10.500000</td>\n",
       "      <td>28.000000</td>\n",
       "      <td>67.222500</td>\n",
       "      <td>0.00000</td>\n",
       "      <td>0.000000</td>\n",
       "      <td>0.000000</td>\n",
       "      <td>1.000000</td>\n",
       "      <td>0.000000</td>\n",
       "    </tr>\n",
       "    <tr>\n",
       "      <th>50%</th>\n",
       "      <td>6.000000</td>\n",
       "      <td>4.500000</td>\n",
       "      <td>1.000000</td>\n",
       "      <td>64.000000</td>\n",
       "      <td>39.000000</td>\n",
       "      <td>21.925000</td>\n",
       "      <td>92.000000</td>\n",
       "      <td>81.020000</td>\n",
       "      <td>0.00000</td>\n",
       "      <td>0.000000</td>\n",
       "      <td>0.000000</td>\n",
       "      <td>5.000000</td>\n",
       "      <td>1.000000</td>\n",
       "    </tr>\n",
       "    <tr>\n",
       "      <th>75%</th>\n",
       "      <td>12.750000</td>\n",
       "      <td>9.000000</td>\n",
       "      <td>2.000000</td>\n",
       "      <td>200.250000</td>\n",
       "      <td>60.750000</td>\n",
       "      <td>36.552500</td>\n",
       "      <td>215.750000</td>\n",
       "      <td>94.652500</td>\n",
       "      <td>0.00000</td>\n",
       "      <td>1.000000</td>\n",
       "      <td>1.000000</td>\n",
       "      <td>18.250000</td>\n",
       "      <td>2.750000</td>\n",
       "    </tr>\n",
       "    <tr>\n",
       "      <th>max</th>\n",
       "      <td>27.000000</td>\n",
       "      <td>27.000000</td>\n",
       "      <td>6.000000</td>\n",
       "      <td>1503.000000</td>\n",
       "      <td>162.000000</td>\n",
       "      <td>100.200000</td>\n",
       "      <td>1532.000000</td>\n",
       "      <td>137.500000</td>\n",
       "      <td>7.00000</td>\n",
       "      <td>5.000000</td>\n",
       "      <td>2.000000</td>\n",
       "      <td>155.000000</td>\n",
       "      <td>52.000000</td>\n",
       "    </tr>\n",
       "  </tbody>\n",
       "</table>\n",
       "</div>"
      ],
      "text/plain": [
       "             Mat       Inns         NO         Runs          HS         Ave  \\\n",
       "count  50.000000  50.000000  50.000000    50.000000   50.000000   50.000000   \n",
       "mean    9.040000   6.720000   1.380000   203.980000   45.640000   25.750400   \n",
       "std     7.623701   6.372902   1.748352   335.053422   41.048881   19.618573   \n",
       "min     1.000000   1.000000   0.000000     0.000000    0.000000    0.000000   \n",
       "25%     3.000000   2.000000   0.000000    17.500000   12.500000   10.500000   \n",
       "50%     6.000000   4.500000   1.000000    64.000000   39.000000   21.925000   \n",
       "75%    12.750000   9.000000   2.000000   200.250000   60.750000   36.552500   \n",
       "max    27.000000  27.000000   6.000000  1503.000000  162.000000  100.200000   \n",
       "\n",
       "                BF          SR       100         50          0          4s  \\\n",
       "count    50.000000   50.000000  50.00000  50.000000  50.000000   50.000000   \n",
       "mean    228.500000   79.711400   0.48000   0.780000   0.340000   18.620000   \n",
       "std     351.287152   24.336552   1.48791   1.418392   0.519419   34.716866   \n",
       "min       1.000000    0.000000   0.00000   0.000000   0.000000    0.000000   \n",
       "25%      28.000000   67.222500   0.00000   0.000000   0.000000    1.000000   \n",
       "50%      92.000000   81.020000   0.00000   0.000000   0.000000    5.000000   \n",
       "75%     215.750000   94.652500   0.00000   1.000000   1.000000   18.250000   \n",
       "max    1532.000000  137.500000   7.00000   5.000000   2.000000  155.000000   \n",
       "\n",
       "              6s  \n",
       "count  50.000000  \n",
       "mean    3.800000  \n",
       "std     8.427361  \n",
       "min     0.000000  \n",
       "25%     0.000000  \n",
       "50%     1.000000  \n",
       "75%     2.750000  \n",
       "max    52.000000  "
      ]
     },
     "execution_count": 1057,
     "metadata": {},
     "output_type": "execute_result"
    }
   ],
   "source": [
    "df_bat.describe()"
   ]
  },
  {
   "cell_type": "code",
   "execution_count": 1058,
   "metadata": {},
   "outputs": [
    {
     "data": {
      "text/html": [
       "<div>\n",
       "<style scoped>\n",
       "    .dataframe tbody tr th:only-of-type {\n",
       "        vertical-align: middle;\n",
       "    }\n",
       "\n",
       "    .dataframe tbody tr th {\n",
       "        vertical-align: top;\n",
       "    }\n",
       "\n",
       "    .dataframe thead th {\n",
       "        text-align: right;\n",
       "    }\n",
       "</style>\n",
       "<table border=\"1\" class=\"dataframe\">\n",
       "  <thead>\n",
       "    <tr style=\"text-align: right;\">\n",
       "      <th></th>\n",
       "      <th>Player</th>\n",
       "      <th>Mat</th>\n",
       "      <th>Inns</th>\n",
       "      <th>NO</th>\n",
       "      <th>Runs</th>\n",
       "      <th>HS</th>\n",
       "      <th>Ave</th>\n",
       "      <th>BF</th>\n",
       "      <th>SR</th>\n",
       "      <th>100</th>\n",
       "      <th>50</th>\n",
       "      <th>0</th>\n",
       "      <th>4s</th>\n",
       "      <th>6s</th>\n",
       "    </tr>\n",
       "  </thead>\n",
       "  <tbody>\n",
       "    <tr>\n",
       "      <th>2</th>\n",
       "      <td>V Kohli (INDIA)</td>\n",
       "      <td>20</td>\n",
       "      <td>20</td>\n",
       "      <td>5</td>\n",
       "      <td>1503</td>\n",
       "      <td>160</td>\n",
       "      <td>100.2</td>\n",
       "      <td>1532</td>\n",
       "      <td>98.10</td>\n",
       "      <td>7</td>\n",
       "      <td>4</td>\n",
       "      <td>0</td>\n",
       "      <td>145</td>\n",
       "      <td>16</td>\n",
       "    </tr>\n",
       "    <tr>\n",
       "      <th>0</th>\n",
       "      <td>RG Sharma (INDIA)</td>\n",
       "      <td>27</td>\n",
       "      <td>27</td>\n",
       "      <td>5</td>\n",
       "      <td>1384</td>\n",
       "      <td>162</td>\n",
       "      <td>62.9</td>\n",
       "      <td>1463</td>\n",
       "      <td>94.60</td>\n",
       "      <td>6</td>\n",
       "      <td>5</td>\n",
       "      <td>1</td>\n",
       "      <td>130</td>\n",
       "      <td>52</td>\n",
       "    </tr>\n",
       "    <tr>\n",
       "      <th>6</th>\n",
       "      <td>S Dhawan (INDIA)</td>\n",
       "      <td>27</td>\n",
       "      <td>27</td>\n",
       "      <td>2</td>\n",
       "      <td>1140</td>\n",
       "      <td>127</td>\n",
       "      <td>45.6</td>\n",
       "      <td>1182</td>\n",
       "      <td>96.44</td>\n",
       "      <td>3</td>\n",
       "      <td>4</td>\n",
       "      <td>1</td>\n",
       "      <td>155</td>\n",
       "      <td>12</td>\n",
       "    </tr>\n",
       "    <tr>\n",
       "      <th>4</th>\n",
       "      <td>SE Marsh (AUS)</td>\n",
       "      <td>10</td>\n",
       "      <td>10</td>\n",
       "      <td>0</td>\n",
       "      <td>640</td>\n",
       "      <td>131</td>\n",
       "      <td>64.0</td>\n",
       "      <td>655</td>\n",
       "      <td>97.70</td>\n",
       "      <td>4</td>\n",
       "      <td>1</td>\n",
       "      <td>0</td>\n",
       "      <td>46</td>\n",
       "      <td>15</td>\n",
       "    </tr>\n",
       "    <tr>\n",
       "      <th>1</th>\n",
       "      <td>AT Rayudu (INDIA)</td>\n",
       "      <td>18</td>\n",
       "      <td>17</td>\n",
       "      <td>5</td>\n",
       "      <td>606</td>\n",
       "      <td>100</td>\n",
       "      <td>50.5</td>\n",
       "      <td>701</td>\n",
       "      <td>86.44</td>\n",
       "      <td>1</td>\n",
       "      <td>4</td>\n",
       "      <td>2</td>\n",
       "      <td>51</td>\n",
       "      <td>17</td>\n",
       "    </tr>\n",
       "  </tbody>\n",
       "</table>\n",
       "</div>"
      ],
      "text/plain": [
       "              Player  Mat  Inns  NO  Runs   HS    Ave    BF     SR  100  50  \\\n",
       "2    V Kohli (INDIA)   20    20   5  1503  160  100.2  1532  98.10    7   4   \n",
       "0  RG Sharma (INDIA)   27    27   5  1384  162   62.9  1463  94.60    6   5   \n",
       "6   S Dhawan (INDIA)   27    27   2  1140  127   45.6  1182  96.44    3   4   \n",
       "4     SE Marsh (AUS)   10    10   0   640  131   64.0   655  97.70    4   1   \n",
       "1  AT Rayudu (INDIA)   18    17   5   606  100   50.5   701  86.44    1   4   \n",
       "\n",
       "   0   4s  6s  \n",
       "2  0  145  16  \n",
       "0  1  130  52  \n",
       "6  1  155  12  \n",
       "4  0   46  15  \n",
       "1  2   51  17  "
      ]
     },
     "execution_count": 1058,
     "metadata": {},
     "output_type": "execute_result"
    }
   ],
   "source": [
    "# Let's sort the dataframe by Runs scored and check the result\n",
    "df_bat.sort_values(by=['Runs'], ascending=False).head()"
   ]
  },
  {
   "cell_type": "markdown",
   "metadata": {},
   "source": [
    "Observations:\n",
    "- Top 3 batsmen in total runs scored category are Indians\n",
    "- Match is in India, so good chances of some Indian player scoring highest runs."
   ]
  },
  {
   "cell_type": "markdown",
   "metadata": {},
   "source": [
    "- But total runs scored in past cannot be used for precdicting the highest run scorer of the series.\n",
    "- Other variables like Ave, SR, HS, 100, 50, 4s, 6s also plays an important role."
   ]
  },
  {
   "cell_type": "markdown",
   "metadata": {},
   "source": [
    "Let's check if there is any correlation between these variables."
   ]
  },
  {
   "cell_type": "code",
   "execution_count": 1059,
   "metadata": {},
   "outputs": [
    {
     "data": {
      "text/plain": [
       "Index(['Player', 'Mat', 'Inns', 'NO', 'Runs', 'HS', 'Ave', 'BF', 'SR', '100',\n",
       "       '50', '0', '4s', '6s'],\n",
       "      dtype='object')"
      ]
     },
     "execution_count": 1059,
     "metadata": {},
     "output_type": "execute_result"
    }
   ],
   "source": [
    "df_bat.columns"
   ]
  },
  {
   "cell_type": "code",
   "execution_count": 1060,
   "metadata": {},
   "outputs": [],
   "source": [
    "# These variables will play important role in predicting the highest scorer\n",
    "h_run = ['HS', 'Ave', 'SR', '100', '50', '4s', '6s']\n",
    "df_h_run = df_bat[h_run]"
   ]
  },
  {
   "cell_type": "code",
   "execution_count": 1061,
   "metadata": {},
   "outputs": [
    {
     "data": {
      "text/plain": [
       "<matplotlib.axes._subplots.AxesSubplot at 0x253273256d8>"
      ]
     },
     "execution_count": 1061,
     "metadata": {},
     "output_type": "execute_result"
    },
    {
     "data": {
      "image/png": "[encoded data removed]",
      "text/plain": [
       "<Figure size 576x432 with 2 Axes>"
      ]
     },
     "metadata": {},
     "output_type": "display_data"
    }
   ],
   "source": [
    "plt.figure(figsize = (8,6))\n",
    "sns.heatmap(df_h_run.corr(),annot = True)"
   ]
  },
  {
   "cell_type": "markdown",
   "metadata": {},
   "source": [
    "* Above heatmap clearly shows some variables with high correlation.\n",
    "* Let's find out which variables have the highest and lowest correlation."
   ]
  },
  {
   "cell_type": "code",
   "execution_count": 1062,
   "metadata": {},
   "outputs": [],
   "source": [
    "#creating correlation matrix for the given data\n",
    "corrmat = np.corrcoef(df_h_run.transpose())"
   ]
  },
  {
   "cell_type": "code",
   "execution_count": 1063,
   "metadata": {},
   "outputs": [],
   "source": [
    "#Make a diagonal matrix with diagonal entry of Matrix corrmat\n",
    "p=np.diagflat(corrmat.diagonal())"
   ]
  },
  {
   "cell_type": "code",
   "execution_count": 1064,
   "metadata": {},
   "outputs": [
    {
     "name": "stdout",
     "output_type": "stream",
     "text": [
      "max corr: 0.891889498961291 , min corr:  0.0\n"
     ]
    }
   ],
   "source": [
    "# subtract diagonal entries making all diagonals 0\n",
    "corrmat_diag_zero = corrmat - p\n",
    "print(\"max corr:\",corrmat_diag_zero.max(), \", min corr: \", corrmat_diag_zero.min(),)\n"
   ]
  },
  {
   "cell_type": "code",
   "execution_count": 1065,
   "metadata": {},
   "outputs": [
    {
     "name": "stdout",
     "output_type": "stream",
     "text": [
      "ij_max (0, 1)\n",
      "Maximum correlation : 0.891889498961291\n"
     ]
    }
   ],
   "source": [
    "# Retrieve the (i,j) index for which matrix has maximum value\n",
    "ij_max = np.unravel_index(corrmat_diag_zero.argmax(), corrmat_diag_zero.shape)\n",
    "print(\"ij_max\",ij_max)\n",
    "print(\"Maximum correlation :\",corrmat_diag_zero[ij_max])"
   ]
  },
  {
   "cell_type": "markdown",
   "metadata": {},
   "source": [
    "Highest correlation is between 'Highest Score' and 'Average'"
   ]
  },
  {
   "cell_type": "code",
   "execution_count": 1066,
   "metadata": {},
   "outputs": [
    {
     "name": "stdout",
     "output_type": "stream",
     "text": [
      "ij_min (2, 3)\n",
      "Minimum correlation : 0.20578385866665974\n"
     ]
    }
   ],
   "source": [
    "# Retrieve the (i,j) index for which matrix has absolute minimum value\n",
    "ij_min = np.unravel_index(np.absolute(corrmat).argmin(), corrmat.shape)\n",
    "print(\"ij_min\",ij_min)\n",
    "print(\"Minimum correlation :\",corrmat_diag_zero[ij_min])"
   ]
  },
  {
   "cell_type": "markdown",
   "metadata": {},
   "source": [
    "Lowest correlation is between 'Strike Rate' and 'number of centuries'"
   ]
  },
  {
   "cell_type": "markdown",
   "metadata": {},
   "source": [
    "From correlation matrix we can see there is a lot of multicollinearity. Let's use PCA and reduce the number of variables."
   ]
  },
  {
   "cell_type": "markdown",
   "metadata": {},
   "source": [
    "### PCA"
   ]
  },
  {
   "cell_type": "code",
   "execution_count": 1067,
   "metadata": {},
   "outputs": [],
   "source": [
    "stand_X = StandardScaler().fit_transform(df_h_run)"
   ]
  },
  {
   "cell_type": "code",
   "execution_count": 1068,
   "metadata": {},
   "outputs": [
    {
     "data": {
      "text/html": [
       "<div>\n",
       "<style scoped>\n",
       "    .dataframe tbody tr th:only-of-type {\n",
       "        vertical-align: middle;\n",
       "    }\n",
       "\n",
       "    .dataframe tbody tr th {\n",
       "        vertical-align: top;\n",
       "    }\n",
       "\n",
       "    .dataframe thead th {\n",
       "        text-align: right;\n",
       "    }\n",
       "</style>\n",
       "<table border=\"1\" class=\"dataframe\">\n",
       "  <thead>\n",
       "    <tr style=\"text-align: right;\">\n",
       "      <th></th>\n",
       "      <th>HS</th>\n",
       "      <th>Ave</th>\n",
       "      <th>SR</th>\n",
       "      <th>100</th>\n",
       "      <th>50</th>\n",
       "      <th>4s</th>\n",
       "      <th>6s</th>\n",
       "    </tr>\n",
       "  </thead>\n",
       "  <tbody>\n",
       "    <tr>\n",
       "      <th>0</th>\n",
       "      <td>2.863448</td>\n",
       "      <td>1.912818</td>\n",
       "      <td>0.617990</td>\n",
       "      <td>3.747566</td>\n",
       "      <td>3.005405</td>\n",
       "      <td>3.240811</td>\n",
       "      <td>5.777533</td>\n",
       "    </tr>\n",
       "    <tr>\n",
       "      <th>1</th>\n",
       "      <td>1.337720</td>\n",
       "      <td>1.274347</td>\n",
       "      <td>0.279288</td>\n",
       "      <td>0.353032</td>\n",
       "      <td>2.293224</td>\n",
       "      <td>0.942157</td>\n",
       "      <td>1.582229</td>\n",
       "    </tr>\n",
       "    <tr>\n",
       "      <th>2</th>\n",
       "      <td>2.814231</td>\n",
       "      <td>3.833380</td>\n",
       "      <td>0.763267</td>\n",
       "      <td>4.426472</td>\n",
       "      <td>2.293224</td>\n",
       "      <td>3.677264</td>\n",
       "      <td>1.462363</td>\n",
       "    </tr>\n",
       "    <tr>\n",
       "      <th>3</th>\n",
       "      <td>1.017809</td>\n",
       "      <td>0.260002</td>\n",
       "      <td>0.620896</td>\n",
       "      <td>-0.325875</td>\n",
       "      <td>2.293224</td>\n",
       "      <td>0.447510</td>\n",
       "      <td>1.462363</td>\n",
       "    </tr>\n",
       "    <tr>\n",
       "      <th>4</th>\n",
       "      <td>2.100584</td>\n",
       "      <td>1.969457</td>\n",
       "      <td>0.746664</td>\n",
       "      <td>2.389752</td>\n",
       "      <td>0.156680</td>\n",
       "      <td>0.796673</td>\n",
       "      <td>1.342497</td>\n",
       "    </tr>\n",
       "  </tbody>\n",
       "</table>\n",
       "</div>"
      ],
      "text/plain": [
       "         HS       Ave        SR       100        50        4s        6s\n",
       "0  2.863448  1.912818  0.617990  3.747566  3.005405  3.240811  5.777533\n",
       "1  1.337720  1.274347  0.279288  0.353032  2.293224  0.942157  1.582229\n",
       "2  2.814231  3.833380  0.763267  4.426472  2.293224  3.677264  1.462363\n",
       "3  1.017809  0.260002  0.620896 -0.325875  2.293224  0.447510  1.462363\n",
       "4  2.100584  1.969457  0.746664  2.389752  0.156680  0.796673  1.342497"
      ]
     },
     "execution_count": 1068,
     "metadata": {},
     "output_type": "execute_result"
    }
   ],
   "source": [
    "df_h_run = pd.DataFrame(stand_X, columns = h_run)\n",
    "df_h_run.head()"
   ]
  },
  {
   "cell_type": "code",
   "execution_count": 1069,
   "metadata": {},
   "outputs": [],
   "source": [
    "#PCA\n",
    "pca = PCA(svd_solver='randomized', random_state=100)"
   ]
  },
  {
   "cell_type": "code",
   "execution_count": 1070,
   "metadata": {},
   "outputs": [],
   "source": [
    "principalComponents = pca.fit_transform(df_h_run)"
   ]
  },
  {
   "cell_type": "code",
   "execution_count": 1071,
   "metadata": {
    "scrolled": true
   },
   "outputs": [
    {
     "data": {
      "text/html": [
       "<div>\n",
       "<style scoped>\n",
       "    .dataframe tbody tr th:only-of-type {\n",
       "        vertical-align: middle;\n",
       "    }\n",
       "\n",
       "    .dataframe tbody tr th {\n",
       "        vertical-align: top;\n",
       "    }\n",
       "\n",
       "    .dataframe thead th {\n",
       "        text-align: right;\n",
       "    }\n",
       "</style>\n",
       "<table border=\"1\" class=\"dataframe\">\n",
       "  <thead>\n",
       "    <tr style=\"text-align: right;\">\n",
       "      <th></th>\n",
       "      <th>Feature</th>\n",
       "      <th>PC1</th>\n",
       "      <th>PC2</th>\n",
       "      <th>PC3</th>\n",
       "      <th>PC4</th>\n",
       "      <th>PC5</th>\n",
       "      <th>PC6</th>\n",
       "      <th>PC7</th>\n",
       "    </tr>\n",
       "  </thead>\n",
       "  <tbody>\n",
       "    <tr>\n",
       "      <th>0</th>\n",
       "      <td>HS</td>\n",
       "      <td>0.430781</td>\n",
       "      <td>-0.046049</td>\n",
       "      <td>0.204347</td>\n",
       "      <td>-0.198223</td>\n",
       "      <td>-0.204852</td>\n",
       "      <td>0.814768</td>\n",
       "      <td>-0.159518</td>\n",
       "    </tr>\n",
       "    <tr>\n",
       "      <th>1</th>\n",
       "      <td>Ave</td>\n",
       "      <td>0.390802</td>\n",
       "      <td>-0.207497</td>\n",
       "      <td>0.106072</td>\n",
       "      <td>-0.642495</td>\n",
       "      <td>-0.345849</td>\n",
       "      <td>-0.436369</td>\n",
       "      <td>0.264834</td>\n",
       "    </tr>\n",
       "    <tr>\n",
       "      <th>2</th>\n",
       "      <td>SR</td>\n",
       "      <td>0.191775</td>\n",
       "      <td>-0.907285</td>\n",
       "      <td>-0.186690</td>\n",
       "      <td>0.272715</td>\n",
       "      <td>0.157534</td>\n",
       "      <td>-0.014795</td>\n",
       "      <td>-0.076112</td>\n",
       "    </tr>\n",
       "    <tr>\n",
       "      <th>3</th>\n",
       "      <td>100</td>\n",
       "      <td>0.391660</td>\n",
       "      <td>0.237912</td>\n",
       "      <td>-0.604703</td>\n",
       "      <td>-0.179254</td>\n",
       "      <td>0.194712</td>\n",
       "      <td>-0.149426</td>\n",
       "      <td>-0.576162</td>\n",
       "    </tr>\n",
       "    <tr>\n",
       "      <th>4</th>\n",
       "      <td>50</td>\n",
       "      <td>0.388226</td>\n",
       "      <td>0.098138</td>\n",
       "      <td>0.676893</td>\n",
       "      <td>0.328919</td>\n",
       "      <td>0.107991</td>\n",
       "      <td>-0.337547</td>\n",
       "      <td>-0.384289</td>\n",
       "    </tr>\n",
       "    <tr>\n",
       "      <th>5</th>\n",
       "      <td>4s</td>\n",
       "      <td>0.416174</td>\n",
       "      <td>0.163751</td>\n",
       "      <td>-0.013428</td>\n",
       "      <td>0.011923</td>\n",
       "      <td>0.683369</td>\n",
       "      <td>0.079155</td>\n",
       "      <td>0.571318</td>\n",
       "    </tr>\n",
       "    <tr>\n",
       "      <th>6</th>\n",
       "      <td>6s</td>\n",
       "      <td>0.384196</td>\n",
       "      <td>0.196495</td>\n",
       "      <td>-0.296830</td>\n",
       "      <td>0.577124</td>\n",
       "      <td>-0.545013</td>\n",
       "      <td>-0.054630</td>\n",
       "      <td>0.304268</td>\n",
       "    </tr>\n",
       "  </tbody>\n",
       "</table>\n",
       "</div>"
      ],
      "text/plain": [
       "  Feature       PC1       PC2       PC3       PC4       PC5       PC6  \\\n",
       "0      HS  0.430781 -0.046049  0.204347 -0.198223 -0.204852  0.814768   \n",
       "1     Ave  0.390802 -0.207497  0.106072 -0.642495 -0.345849 -0.436369   \n",
       "2      SR  0.191775 -0.907285 -0.186690  0.272715  0.157534 -0.014795   \n",
       "3     100  0.391660  0.237912 -0.604703 -0.179254  0.194712 -0.149426   \n",
       "4      50  0.388226  0.098138  0.676893  0.328919  0.107991 -0.337547   \n",
       "5      4s  0.416174  0.163751 -0.013428  0.011923  0.683369  0.079155   \n",
       "6      6s  0.384196  0.196495 -0.296830  0.577124 -0.545013 -0.054630   \n",
       "\n",
       "        PC7  \n",
       "0 -0.159518  \n",
       "1  0.264834  \n",
       "2 -0.076112  \n",
       "3 -0.576162  \n",
       "4 -0.384289  \n",
       "5  0.571318  \n",
       "6  0.304268  "
      ]
     },
     "execution_count": 1071,
     "metadata": {},
     "output_type": "execute_result"
    }
   ],
   "source": [
    "df_pcs = pd.DataFrame({'Feature':h_run,\n",
    "                       'PC1':pca.components_[0],\n",
    "                       'PC2':pca.components_[1],\n",
    "                       'PC3':pca.components_[2],\n",
    "                       'PC4':pca.components_[3],\n",
    "                       'PC5':pca.components_[4],\n",
    "                       'PC6':pca.components_[5],\n",
    "                       'PC7':pca.components_[6],})\n",
    "df_pcs"
   ]
  },
  {
   "cell_type": "markdown",
   "metadata": {},
   "source": [
    "We'll plot original features on the first 2 principal components as axes"
   ]
  },
  {
   "cell_type": "code",
   "execution_count": 1072,
   "metadata": {},
   "outputs": [
    {
     "data": {
      "image/png": "[encoded data removed]",
      "text/plain": [
       "<Figure size 576x576 with 1 Axes>"
      ]
     },
     "metadata": {},
     "output_type": "display_data"
    }
   ],
   "source": [
    "%matplotlib inline\n",
    "fig = plt.figure(figsize = (8,8))\n",
    "plt.scatter(df_pcs.PC1, df_pcs.PC2)\n",
    "plt.xlabel('Principal Component 1')\n",
    "plt.ylabel('Principal Component 2')\n",
    "for i, txt in enumerate(df_pcs.Feature):\n",
    "    plt.annotate(txt, (df_pcs.PC1[i],df_pcs.PC2[i]))\n",
    "plt.tight_layout()\n",
    "plt.show()"
   ]
  },
  {
   "cell_type": "markdown",
   "metadata": {},
   "source": [
    "- Looks like Highest Score and Number of 4's have the highest value in PC1.\n",
    "- PC2 has number of centuries and sixes as mojor component."
   ]
  },
  {
   "cell_type": "markdown",
   "metadata": {},
   "source": [
    "Let's look at the screeplot to assess the number of principal components we would need for further analysis"
   ]
  },
  {
   "cell_type": "markdown",
   "metadata": {},
   "source": [
    "Explained Variance"
   ]
  },
  {
   "cell_type": "code",
   "execution_count": 1073,
   "metadata": {},
   "outputs": [
    {
     "data": {
      "text/plain": [
       "array([5.04342197, 0.95387567, 0.41726111, 0.3948852 , 0.2211963 ,\n",
       "       0.05856833, 0.05364857])"
      ]
     },
     "execution_count": 1073,
     "metadata": {},
     "output_type": "execute_result"
    }
   ],
   "source": [
    "pca.explained_variance_"
   ]
  },
  {
   "cell_type": "code",
   "execution_count": 1074,
   "metadata": {},
   "outputs": [
    {
     "name": "stdout",
     "output_type": "stream",
     "text": [
      "pca.explained_variance_ratio_:  [70.6 13.4  5.8  5.5  3.1  0.8  0.8]\n"
     ]
    }
   ],
   "source": [
    "print(\"pca.explained_variance_ratio_: \",pca.explained_variance_ratio_.round(3)*100)"
   ]
  },
  {
   "cell_type": "code",
   "execution_count": 1075,
   "metadata": {},
   "outputs": [
    {
     "name": "stdout",
     "output_type": "stream",
     "text": [
      "[0.70607908 0.83962167 0.89803823 0.95332215 0.98428964 0.9924892\n",
      " 1.        ]\n"
     ]
    }
   ],
   "source": [
    "print(pca.explained_variance_ratio_.cumsum())"
   ]
  },
  {
   "cell_type": "code",
   "execution_count": 1076,
   "metadata": {},
   "outputs": [
    {
     "data": {
      "text/plain": [
       "array([ 70.61,  83.96,  89.8 ,  95.33,  98.43,  99.25, 100.  ])"
      ]
     },
     "execution_count": 1076,
     "metadata": {},
     "output_type": "execute_result"
    }
   ],
   "source": [
    "np.cumsum(np.round(pca.explained_variance_ratio_, decimals=4)*100)"
   ]
  },
  {
   "cell_type": "markdown",
   "metadata": {},
   "source": [
    "First two PCs are enough to explain 84% of the variance"
   ]
  },
  {
   "cell_type": "code",
   "execution_count": 1077,
   "metadata": {},
   "outputs": [
    {
     "data": {
      "image/png": "[encoded data removed]",
      "text/plain": [
       "<Figure size 864x576 with 1 Axes>"
      ]
     },
     "metadata": {},
     "output_type": "display_data"
    }
   ],
   "source": [
    "#Making the screeplot - plotting the cumulative variance against the number of components\n",
    "%matplotlib inline\n",
    "fig = plt.figure(figsize = (12,8))\n",
    "plt.plot(np.cumsum(pca.explained_variance_ratio_))\n",
    "plt.xlabel('number of components')\n",
    "plt.ylabel('cumulative explained variance')\n",
    "plt.show()"
   ]
  },
  {
   "cell_type": "markdown",
   "metadata": {},
   "source": [
    "Let's pick two PCs"
   ]
  },
  {
   "cell_type": "code",
   "execution_count": 1078,
   "metadata": {},
   "outputs": [],
   "source": [
    "pca_final = IncrementalPCA(n_components=2)"
   ]
  },
  {
   "cell_type": "code",
   "execution_count": 1079,
   "metadata": {},
   "outputs": [],
   "source": [
    "# Basis transformation - get the data onto PCs\n",
    "pca_final = pca_final.fit_transform(df_h_run)"
   ]
  },
  {
   "cell_type": "code",
   "execution_count": 1080,
   "metadata": {},
   "outputs": [
    {
     "data": {
      "text/plain": [
       "(50, 2)"
      ]
     },
     "execution_count": 1080,
     "metadata": {},
     "output_type": "execute_result"
    }
   ],
   "source": [
    "pca_final.shape"
   ]
  },
  {
   "cell_type": "markdown",
   "metadata": {},
   "source": [
    "#### Create correlation matrix for the principal components"
   ]
  },
  {
   "cell_type": "markdown",
   "metadata": {},
   "source": [
    "Let's verify that the principal components are not correlated"
   ]
  },
  {
   "cell_type": "code",
   "execution_count": 1081,
   "metadata": {},
   "outputs": [],
   "source": [
    "#creating correlation matrix for the principal components\n",
    "corrmat = np.corrcoef(pca_final.transpose())"
   ]
  },
  {
   "cell_type": "code",
   "execution_count": 1082,
   "metadata": {
    "scrolled": false
   },
   "outputs": [
    {
     "data": {
      "text/plain": [
       "<matplotlib.axes._subplots.AxesSubplot at 0x25324bf8160>"
      ]
     },
     "execution_count": 1082,
     "metadata": {},
     "output_type": "execute_result"
    },
    {
     "data": {
      "image/png": "[encoded data removed]",
      "text/plain": [
       "<Figure size 720x360 with 2 Axes>"
      ]
     },
     "metadata": {},
     "output_type": "display_data"
    }
   ],
   "source": [
    "#plotting the correlation matrix\n",
    "%matplotlib inline\n",
    "plt.figure(figsize = (10,5))\n",
    "sns.heatmap(corrmat,annot = True)"
   ]
  },
  {
   "cell_type": "code",
   "execution_count": 1083,
   "metadata": {},
   "outputs": [
    {
     "name": "stdout",
     "output_type": "stream",
     "text": [
      "max corr: 0.0002955171732216815 , min corr:  0.0\n"
     ]
    }
   ],
   "source": [
    "corrmat_nodiag = corrmat - np.diagflat(corrmat.diagonal())\n",
    "print(\"max corr:\",corrmat_nodiag.max(), \", min corr: \", corrmat_nodiag.min(),)"
   ]
  },
  {
   "cell_type": "markdown",
   "metadata": {},
   "source": [
    "We see that correlations are indeed very close to 0, i.e., we have effectively removed multicollinearity from the dataset."
   ]
  },
  {
   "cell_type": "markdown",
   "metadata": {},
   "source": [
    "#### Create dataframe containing the 4 principal components"
   ]
  },
  {
   "cell_type": "code",
   "execution_count": 1084,
   "metadata": {},
   "outputs": [
    {
     "data": {
      "text/html": [
       "<div>\n",
       "<style scoped>\n",
       "    .dataframe tbody tr th:only-of-type {\n",
       "        vertical-align: middle;\n",
       "    }\n",
       "\n",
       "    .dataframe tbody tr th {\n",
       "        vertical-align: top;\n",
       "    }\n",
       "\n",
       "    .dataframe thead th {\n",
       "        text-align: right;\n",
       "    }\n",
       "</style>\n",
       "<table border=\"1\" class=\"dataframe\">\n",
       "  <thead>\n",
       "    <tr style=\"text-align: right;\">\n",
       "      <th></th>\n",
       "      <th>PC1</th>\n",
       "      <th>PC2</th>\n",
       "    </tr>\n",
       "  </thead>\n",
       "  <tbody>\n",
       "    <tr>\n",
       "      <th>0</th>\n",
       "      <td>8.305760</td>\n",
       "      <td>-1.689617</td>\n",
       "    </tr>\n",
       "    <tr>\n",
       "      <th>1</th>\n",
       "      <td>3.154048</td>\n",
       "      <td>-0.233627</td>\n",
       "    </tr>\n",
       "    <tr>\n",
       "      <th>2</th>\n",
       "      <td>7.574445</td>\n",
       "      <td>-0.540358</td>\n",
       "    </tr>\n",
       "    <tr>\n",
       "      <th>3</th>\n",
       "      <td>2.167347</td>\n",
       "      <td>0.122264</td>\n",
       "    </tr>\n",
       "    <tr>\n",
       "      <th>4</th>\n",
       "      <td>3.663457</td>\n",
       "      <td>0.227161</td>\n",
       "    </tr>\n",
       "  </tbody>\n",
       "</table>\n",
       "</div>"
      ],
      "text/plain": [
       "        PC1       PC2\n",
       "0  8.305760 -1.689617\n",
       "1  3.154048 -0.233627\n",
       "2  7.574445 -0.540358\n",
       "3  2.167347  0.122264\n",
       "4  3.663457  0.227161"
      ]
     },
     "execution_count": 1084,
     "metadata": {},
     "output_type": "execute_result"
    }
   ],
   "source": [
    "df_pca_final = pd.DataFrame(data = pca_final, columns = ['PC1', 'PC2'])\n",
    "df_pca_final.head()"
   ]
  },
  {
   "cell_type": "code",
   "execution_count": 1085,
   "metadata": {},
   "outputs": [
    {
     "data": {
      "text/plain": [
       "(50, 2)"
      ]
     },
     "execution_count": 1085,
     "metadata": {},
     "output_type": "execute_result"
    }
   ],
   "source": [
    "df_pca_final.shape"
   ]
  },
  {
   "cell_type": "code",
   "execution_count": 1086,
   "metadata": {},
   "outputs": [
    {
     "data": {
      "text/html": [
       "<div>\n",
       "<style scoped>\n",
       "    .dataframe tbody tr th:only-of-type {\n",
       "        vertical-align: middle;\n",
       "    }\n",
       "\n",
       "    .dataframe tbody tr th {\n",
       "        vertical-align: top;\n",
       "    }\n",
       "\n",
       "    .dataframe thead th {\n",
       "        text-align: right;\n",
       "    }\n",
       "</style>\n",
       "<table border=\"1\" class=\"dataframe\">\n",
       "  <thead>\n",
       "    <tr style=\"text-align: right;\">\n",
       "      <th></th>\n",
       "      <th>Player</th>\n",
       "    </tr>\n",
       "  </thead>\n",
       "  <tbody>\n",
       "    <tr>\n",
       "      <th>0</th>\n",
       "      <td>RG Sharma (INDIA)</td>\n",
       "    </tr>\n",
       "    <tr>\n",
       "      <th>1</th>\n",
       "      <td>AT Rayudu (INDIA)</td>\n",
       "    </tr>\n",
       "    <tr>\n",
       "      <th>2</th>\n",
       "      <td>V Kohli (INDIA)</td>\n",
       "    </tr>\n",
       "    <tr>\n",
       "      <th>3</th>\n",
       "      <td>MP Stoinis (AUS)</td>\n",
       "    </tr>\n",
       "    <tr>\n",
       "      <th>4</th>\n",
       "      <td>SE Marsh (AUS)</td>\n",
       "    </tr>\n",
       "  </tbody>\n",
       "</table>\n",
       "</div>"
      ],
      "text/plain": [
       "              Player\n",
       "0  RG Sharma (INDIA)\n",
       "1  AT Rayudu (INDIA)\n",
       "2    V Kohli (INDIA)\n",
       "3   MP Stoinis (AUS)\n",
       "4     SE Marsh (AUS)"
      ]
     },
     "execution_count": 1086,
     "metadata": {},
     "output_type": "execute_result"
    }
   ],
   "source": [
    "df_bat[['Player']].head()"
   ]
  },
  {
   "cell_type": "code",
   "execution_count": 1087,
   "metadata": {},
   "outputs": [
    {
     "data": {
      "text/html": [
       "<div>\n",
       "<style scoped>\n",
       "    .dataframe tbody tr th:only-of-type {\n",
       "        vertical-align: middle;\n",
       "    }\n",
       "\n",
       "    .dataframe tbody tr th {\n",
       "        vertical-align: top;\n",
       "    }\n",
       "\n",
       "    .dataframe thead th {\n",
       "        text-align: right;\n",
       "    }\n",
       "</style>\n",
       "<table border=\"1\" class=\"dataframe\">\n",
       "  <thead>\n",
       "    <tr style=\"text-align: right;\">\n",
       "      <th></th>\n",
       "      <th>Player</th>\n",
       "      <th>PC1</th>\n",
       "      <th>PC2</th>\n",
       "    </tr>\n",
       "  </thead>\n",
       "  <tbody>\n",
       "    <tr>\n",
       "      <th>0</th>\n",
       "      <td>RG Sharma (INDIA)</td>\n",
       "      <td>8.305760</td>\n",
       "      <td>-1.689617</td>\n",
       "    </tr>\n",
       "    <tr>\n",
       "      <th>1</th>\n",
       "      <td>AT Rayudu (INDIA)</td>\n",
       "      <td>3.154048</td>\n",
       "      <td>-0.233627</td>\n",
       "    </tr>\n",
       "    <tr>\n",
       "      <th>2</th>\n",
       "      <td>V Kohli (INDIA)</td>\n",
       "      <td>7.574445</td>\n",
       "      <td>-0.540358</td>\n",
       "    </tr>\n",
       "    <tr>\n",
       "      <th>3</th>\n",
       "      <td>MP Stoinis (AUS)</td>\n",
       "      <td>2.167347</td>\n",
       "      <td>0.122264</td>\n",
       "    </tr>\n",
       "    <tr>\n",
       "      <th>4</th>\n",
       "      <td>SE Marsh (AUS)</td>\n",
       "      <td>3.663457</td>\n",
       "      <td>0.227161</td>\n",
       "    </tr>\n",
       "    <tr>\n",
       "      <th>5</th>\n",
       "      <td>AJ Finch (AUS)</td>\n",
       "      <td>2.329508</td>\n",
       "      <td>-0.289440</td>\n",
       "    </tr>\n",
       "    <tr>\n",
       "      <th>6</th>\n",
       "      <td>S Dhawan (INDIA)</td>\n",
       "      <td>4.984664</td>\n",
       "      <td>-0.538385</td>\n",
       "    </tr>\n",
       "    <tr>\n",
       "      <th>7</th>\n",
       "      <td>MS Dhoni (INDIA)</td>\n",
       "      <td>1.442607</td>\n",
       "      <td>-0.229818</td>\n",
       "    </tr>\n",
       "    <tr>\n",
       "      <th>8</th>\n",
       "      <td>HH Pandya (INDIA)</td>\n",
       "      <td>-0.278616</td>\n",
       "      <td>1.113865</td>\n",
       "    </tr>\n",
       "    <tr>\n",
       "      <th>9</th>\n",
       "      <td>GJ Maxwell (AUS)</td>\n",
       "      <td>0.644805</td>\n",
       "      <td>1.127006</td>\n",
       "    </tr>\n",
       "  </tbody>\n",
       "</table>\n",
       "</div>"
      ],
      "text/plain": [
       "              Player       PC1       PC2\n",
       "0  RG Sharma (INDIA)  8.305760 -1.689617\n",
       "1  AT Rayudu (INDIA)  3.154048 -0.233627\n",
       "2    V Kohli (INDIA)  7.574445 -0.540358\n",
       "3   MP Stoinis (AUS)  2.167347  0.122264\n",
       "4     SE Marsh (AUS)  3.663457  0.227161\n",
       "5     AJ Finch (AUS)  2.329508 -0.289440\n",
       "6   S Dhawan (INDIA)  4.984664 -0.538385\n",
       "7   MS Dhoni (INDIA)  1.442607 -0.229818\n",
       "8  HH Pandya (INDIA) -0.278616  1.113865\n",
       "9   GJ Maxwell (AUS)  0.644805  1.127006"
      ]
     },
     "execution_count": 1087,
     "metadata": {},
     "output_type": "execute_result"
    }
   ],
   "source": [
    "df_post_pca = pd.concat([df_bat[['Player']], df_pca_final], axis = 1)\n",
    "df_post_pca.head(10)"
   ]
  },
  {
   "cell_type": "markdown",
   "metadata": {},
   "source": [
    "This is the final dataset we obtained after performing PCA and reducing the number of variables to 2."
   ]
  },
  {
   "cell_type": "code",
   "execution_count": 1088,
   "metadata": {},
   "outputs": [
    {
     "data": {
      "text/html": [
       "<div>\n",
       "<style scoped>\n",
       "    .dataframe tbody tr th:only-of-type {\n",
       "        vertical-align: middle;\n",
       "    }\n",
       "\n",
       "    .dataframe tbody tr th {\n",
       "        vertical-align: top;\n",
       "    }\n",
       "\n",
       "    .dataframe thead th {\n",
       "        text-align: right;\n",
       "    }\n",
       "</style>\n",
       "<table border=\"1\" class=\"dataframe\">\n",
       "  <thead>\n",
       "    <tr style=\"text-align: right;\">\n",
       "      <th></th>\n",
       "      <th>Player</th>\n",
       "      <th>PC1</th>\n",
       "      <th>PC2</th>\n",
       "    </tr>\n",
       "  </thead>\n",
       "  <tbody>\n",
       "    <tr>\n",
       "      <th>0</th>\n",
       "      <td>RG Sharma (INDIA)</td>\n",
       "      <td>8.305760</td>\n",
       "      <td>-1.689617</td>\n",
       "    </tr>\n",
       "    <tr>\n",
       "      <th>2</th>\n",
       "      <td>V Kohli (INDIA)</td>\n",
       "      <td>7.574445</td>\n",
       "      <td>-0.540358</td>\n",
       "    </tr>\n",
       "    <tr>\n",
       "      <th>6</th>\n",
       "      <td>S Dhawan (INDIA)</td>\n",
       "      <td>4.984664</td>\n",
       "      <td>-0.538385</td>\n",
       "    </tr>\n",
       "    <tr>\n",
       "      <th>4</th>\n",
       "      <td>SE Marsh (AUS)</td>\n",
       "      <td>3.663457</td>\n",
       "      <td>0.227161</td>\n",
       "    </tr>\n",
       "    <tr>\n",
       "      <th>1</th>\n",
       "      <td>AT Rayudu (INDIA)</td>\n",
       "      <td>3.154048</td>\n",
       "      <td>-0.233627</td>\n",
       "    </tr>\n",
       "  </tbody>\n",
       "</table>\n",
       "</div>"
      ],
      "text/plain": [
       "              Player       PC1       PC2\n",
       "0  RG Sharma (INDIA)  8.305760 -1.689617\n",
       "2    V Kohli (INDIA)  7.574445 -0.540358\n",
       "6   S Dhawan (INDIA)  4.984664 -0.538385\n",
       "4     SE Marsh (AUS)  3.663457  0.227161\n",
       "1  AT Rayudu (INDIA)  3.154048 -0.233627"
      ]
     },
     "execution_count": 1088,
     "metadata": {},
     "output_type": "execute_result"
    }
   ],
   "source": [
    "df_post_pca.sort_values(by=['PC1', 'PC2'], ascending=False).head()"
   ]
  },
  {
   "cell_type": "markdown",
   "metadata": {},
   "source": [
    "#### Let's plot these 2 PCs on scatter plot"
   ]
  },
  {
   "cell_type": "code",
   "execution_count": 1089,
   "metadata": {},
   "outputs": [
    {
     "name": "stderr",
     "output_type": "stream",
     "text": [
      "No handles with labels found to put in legend.\n"
     ]
    },
    {
     "data": {
      "text/plain": [
       "<matplotlib.legend.Legend at 0x253273b0550>"
      ]
     },
     "execution_count": 1089,
     "metadata": {},
     "output_type": "execute_result"
    },
    {
     "data": {
      "image/png": "[encoded data removed]",
      "text/plain": [
       "<Figure size 720x576 with 1 Axes>"
      ]
     },
     "metadata": {},
     "output_type": "display_data"
    }
   ],
   "source": [
    "fig = plt.figure(figsize = (10,8))\n",
    "cmap = sns.cubehelix_palette(dark=.3, light=.8, as_cmap=True)\n",
    "sns.scatterplot(x=df_post_pca.PC1, \n",
    "                y=df_post_pca.PC2,  \n",
    "                sizes=(20, 200), \n",
    "                color=\"b\",\n",
    "                palette=cmap)\n",
    "plt.legend(loc='upper right')"
   ]
  },
  {
   "cell_type": "markdown",
   "metadata": {},
   "source": [
    "#### Highest run scorer"
   ]
  },
  {
   "cell_type": "markdown",
   "metadata": {},
   "source": [
    "The above data shows that the following 3 three players have a very good chance of scoring the highest runs in the series: \n",
    "- Rohit Sharma\n",
    "- Virat Kohli\n",
    "- Shikhar Dhawan"
   ]
  },
  {
   "cell_type": "markdown",
   "metadata": {},
   "source": [
    "But since PC1 covers 70% of the variance, we wil go ahead with **Rohit Sharma** for highest run scorer of the series."
   ]
  },
  {
   "cell_type": "markdown",
   "metadata": {},
   "source": [
    "Now, let's predict player with maximum fours and maximum sixes in series."
   ]
  },
  {
   "cell_type": "markdown",
   "metadata": {},
   "source": [
    "#### Maximum sixes and Maximum fours"
   ]
  },
  {
   "cell_type": "markdown",
   "metadata": {},
   "source": [
    "Scoring fours and sixes depends on the technial skills of the batsman, i.e., there are some batsmen who play technical shots and mostly go for four runs, however, there are few batsmen who like to hit big and clears the boundary from the top."
   ]
  },
  {
   "cell_type": "markdown",
   "metadata": {},
   "source": [
    "So for predicting maximum sixes and fours we can go with the past data and selects the players based on the number of sixes  and fours they have scored."
   ]
  },
  {
   "cell_type": "code",
   "execution_count": 1090,
   "metadata": {},
   "outputs": [
    {
     "data": {
      "text/html": [
       "<div>\n",
       "<style scoped>\n",
       "    .dataframe tbody tr th:only-of-type {\n",
       "        vertical-align: middle;\n",
       "    }\n",
       "\n",
       "    .dataframe tbody tr th {\n",
       "        vertical-align: top;\n",
       "    }\n",
       "\n",
       "    .dataframe thead th {\n",
       "        text-align: right;\n",
       "    }\n",
       "</style>\n",
       "<table border=\"1\" class=\"dataframe\">\n",
       "  <thead>\n",
       "    <tr style=\"text-align: right;\">\n",
       "      <th></th>\n",
       "      <th>Player</th>\n",
       "      <th>Mat</th>\n",
       "      <th>Inns</th>\n",
       "      <th>NO</th>\n",
       "      <th>Runs</th>\n",
       "      <th>HS</th>\n",
       "      <th>Ave</th>\n",
       "      <th>BF</th>\n",
       "      <th>SR</th>\n",
       "      <th>100</th>\n",
       "      <th>50</th>\n",
       "      <th>0</th>\n",
       "      <th>4s</th>\n",
       "      <th>6s</th>\n",
       "    </tr>\n",
       "  </thead>\n",
       "  <tbody>\n",
       "    <tr>\n",
       "      <th>6</th>\n",
       "      <td>S Dhawan (INDIA)</td>\n",
       "      <td>27</td>\n",
       "      <td>27</td>\n",
       "      <td>2</td>\n",
       "      <td>1140</td>\n",
       "      <td>127</td>\n",
       "      <td>45.60</td>\n",
       "      <td>1182</td>\n",
       "      <td>96.44</td>\n",
       "      <td>3</td>\n",
       "      <td>4</td>\n",
       "      <td>1</td>\n",
       "      <td>155</td>\n",
       "      <td>12</td>\n",
       "    </tr>\n",
       "    <tr>\n",
       "      <th>2</th>\n",
       "      <td>V Kohli (INDIA)</td>\n",
       "      <td>20</td>\n",
       "      <td>20</td>\n",
       "      <td>5</td>\n",
       "      <td>1503</td>\n",
       "      <td>160</td>\n",
       "      <td>100.20</td>\n",
       "      <td>1532</td>\n",
       "      <td>98.10</td>\n",
       "      <td>7</td>\n",
       "      <td>4</td>\n",
       "      <td>0</td>\n",
       "      <td>145</td>\n",
       "      <td>16</td>\n",
       "    </tr>\n",
       "    <tr>\n",
       "      <th>0</th>\n",
       "      <td>RG Sharma (INDIA)</td>\n",
       "      <td>27</td>\n",
       "      <td>27</td>\n",
       "      <td>5</td>\n",
       "      <td>1384</td>\n",
       "      <td>162</td>\n",
       "      <td>62.90</td>\n",
       "      <td>1463</td>\n",
       "      <td>94.60</td>\n",
       "      <td>6</td>\n",
       "      <td>5</td>\n",
       "      <td>1</td>\n",
       "      <td>130</td>\n",
       "      <td>52</td>\n",
       "    </tr>\n",
       "    <tr>\n",
       "      <th>1</th>\n",
       "      <td>AT Rayudu (INDIA)</td>\n",
       "      <td>18</td>\n",
       "      <td>17</td>\n",
       "      <td>5</td>\n",
       "      <td>606</td>\n",
       "      <td>100</td>\n",
       "      <td>50.50</td>\n",
       "      <td>701</td>\n",
       "      <td>86.44</td>\n",
       "      <td>1</td>\n",
       "      <td>4</td>\n",
       "      <td>2</td>\n",
       "      <td>51</td>\n",
       "      <td>17</td>\n",
       "    </tr>\n",
       "    <tr>\n",
       "      <th>21</th>\n",
       "      <td>TM Head (AUS)</td>\n",
       "      <td>12</td>\n",
       "      <td>12</td>\n",
       "      <td>0</td>\n",
       "      <td>339</td>\n",
       "      <td>96</td>\n",
       "      <td>28.25</td>\n",
       "      <td>364</td>\n",
       "      <td>93.13</td>\n",
       "      <td>0</td>\n",
       "      <td>4</td>\n",
       "      <td>0</td>\n",
       "      <td>49</td>\n",
       "      <td>1</td>\n",
       "    </tr>\n",
       "  </tbody>\n",
       "</table>\n",
       "</div>"
      ],
      "text/plain": [
       "               Player  Mat  Inns  NO  Runs   HS     Ave    BF     SR  100  50  \\\n",
       "6    S Dhawan (INDIA)   27    27   2  1140  127   45.60  1182  96.44    3   4   \n",
       "2     V Kohli (INDIA)   20    20   5  1503  160  100.20  1532  98.10    7   4   \n",
       "0   RG Sharma (INDIA)   27    27   5  1384  162   62.90  1463  94.60    6   5   \n",
       "1   AT Rayudu (INDIA)   18    17   5   606  100   50.50   701  86.44    1   4   \n",
       "21      TM Head (AUS)   12    12   0   339   96   28.25   364  93.13    0   4   \n",
       "\n",
       "    0   4s  6s  \n",
       "6   1  155  12  \n",
       "2   0  145  16  \n",
       "0   1  130  52  \n",
       "1   2   51  17  \n",
       "21  0   49   1  "
      ]
     },
     "execution_count": 1090,
     "metadata": {},
     "output_type": "execute_result"
    }
   ],
   "source": [
    "# Sort data based on number of fours\n",
    "df_bat.sort_values(by=['4s'], ascending=False).head()"
   ]
  },
  {
   "cell_type": "markdown",
   "metadata": {},
   "source": [
    "Based on this data S Dhawan and V Kohli have high chances of scoring most number of fours, but as per the data we will go with **Shikhar Dhawan.**"
   ]
  },
  {
   "cell_type": "code",
   "execution_count": 1091,
   "metadata": {},
   "outputs": [
    {
     "data": {
      "text/html": [
       "<div>\n",
       "<style scoped>\n",
       "    .dataframe tbody tr th:only-of-type {\n",
       "        vertical-align: middle;\n",
       "    }\n",
       "\n",
       "    .dataframe tbody tr th {\n",
       "        vertical-align: top;\n",
       "    }\n",
       "\n",
       "    .dataframe thead th {\n",
       "        text-align: right;\n",
       "    }\n",
       "</style>\n",
       "<table border=\"1\" class=\"dataframe\">\n",
       "  <thead>\n",
       "    <tr style=\"text-align: right;\">\n",
       "      <th></th>\n",
       "      <th>Player</th>\n",
       "      <th>Mat</th>\n",
       "      <th>Inns</th>\n",
       "      <th>NO</th>\n",
       "      <th>Runs</th>\n",
       "      <th>HS</th>\n",
       "      <th>Ave</th>\n",
       "      <th>BF</th>\n",
       "      <th>SR</th>\n",
       "      <th>100</th>\n",
       "      <th>50</th>\n",
       "      <th>0</th>\n",
       "      <th>4s</th>\n",
       "      <th>6s</th>\n",
       "    </tr>\n",
       "  </thead>\n",
       "  <tbody>\n",
       "    <tr>\n",
       "      <th>0</th>\n",
       "      <td>RG Sharma (INDIA)</td>\n",
       "      <td>27</td>\n",
       "      <td>27</td>\n",
       "      <td>5</td>\n",
       "      <td>1384</td>\n",
       "      <td>162</td>\n",
       "      <td>62.9</td>\n",
       "      <td>1463</td>\n",
       "      <td>94.60</td>\n",
       "      <td>6</td>\n",
       "      <td>5</td>\n",
       "      <td>1</td>\n",
       "      <td>130</td>\n",
       "      <td>52</td>\n",
       "    </tr>\n",
       "    <tr>\n",
       "      <th>1</th>\n",
       "      <td>AT Rayudu (INDIA)</td>\n",
       "      <td>18</td>\n",
       "      <td>17</td>\n",
       "      <td>5</td>\n",
       "      <td>606</td>\n",
       "      <td>100</td>\n",
       "      <td>50.5</td>\n",
       "      <td>701</td>\n",
       "      <td>86.44</td>\n",
       "      <td>1</td>\n",
       "      <td>4</td>\n",
       "      <td>2</td>\n",
       "      <td>51</td>\n",
       "      <td>17</td>\n",
       "    </tr>\n",
       "    <tr>\n",
       "      <th>2</th>\n",
       "      <td>V Kohli (INDIA)</td>\n",
       "      <td>20</td>\n",
       "      <td>20</td>\n",
       "      <td>5</td>\n",
       "      <td>1503</td>\n",
       "      <td>160</td>\n",
       "      <td>100.2</td>\n",
       "      <td>1532</td>\n",
       "      <td>98.10</td>\n",
       "      <td>7</td>\n",
       "      <td>4</td>\n",
       "      <td>0</td>\n",
       "      <td>145</td>\n",
       "      <td>16</td>\n",
       "    </tr>\n",
       "    <tr>\n",
       "      <th>3</th>\n",
       "      <td>MP Stoinis (AUS)</td>\n",
       "      <td>16</td>\n",
       "      <td>16</td>\n",
       "      <td>1</td>\n",
       "      <td>462</td>\n",
       "      <td>87</td>\n",
       "      <td>30.8</td>\n",
       "      <td>488</td>\n",
       "      <td>94.67</td>\n",
       "      <td>0</td>\n",
       "      <td>4</td>\n",
       "      <td>1</td>\n",
       "      <td>34</td>\n",
       "      <td>16</td>\n",
       "    </tr>\n",
       "    <tr>\n",
       "      <th>4</th>\n",
       "      <td>SE Marsh (AUS)</td>\n",
       "      <td>10</td>\n",
       "      <td>10</td>\n",
       "      <td>0</td>\n",
       "      <td>640</td>\n",
       "      <td>131</td>\n",
       "      <td>64.0</td>\n",
       "      <td>655</td>\n",
       "      <td>97.70</td>\n",
       "      <td>4</td>\n",
       "      <td>1</td>\n",
       "      <td>0</td>\n",
       "      <td>46</td>\n",
       "      <td>15</td>\n",
       "    </tr>\n",
       "  </tbody>\n",
       "</table>\n",
       "</div>"
      ],
      "text/plain": [
       "              Player  Mat  Inns  NO  Runs   HS    Ave    BF     SR  100  50  \\\n",
       "0  RG Sharma (INDIA)   27    27   5  1384  162   62.9  1463  94.60    6   5   \n",
       "1  AT Rayudu (INDIA)   18    17   5   606  100   50.5   701  86.44    1   4   \n",
       "2    V Kohli (INDIA)   20    20   5  1503  160  100.2  1532  98.10    7   4   \n",
       "3   MP Stoinis (AUS)   16    16   1   462   87   30.8   488  94.67    0   4   \n",
       "4     SE Marsh (AUS)   10    10   0   640  131   64.0   655  97.70    4   1   \n",
       "\n",
       "   0   4s  6s  \n",
       "0  1  130  52  \n",
       "1  2   51  17  \n",
       "2  0  145  16  \n",
       "3  1   34  16  \n",
       "4  0   46  15  "
      ]
     },
     "execution_count": 1091,
     "metadata": {},
     "output_type": "execute_result"
    }
   ],
   "source": [
    "# Sort data based on number of sixes\n",
    "df_bat.sort_values(by=['6s'], ascending=False).head()"
   ]
  },
  {
   "cell_type": "markdown",
   "metadata": {},
   "source": [
    "In this list R Sharma is leading the list with huge margin so let's pick **Rohit Sharma.**"
   ]
  },
  {
   "cell_type": "markdown",
   "metadata": {},
   "source": [
    "Now let's move ahead and predict the highest wicket-taker of the series. For this let's read and analyse the bowling statistics."
   ]
  },
  {
   "cell_type": "markdown",
   "metadata": {},
   "source": [
    "Let's now read the Bowling Statistics"
   ]
  },
  {
   "cell_type": "code",
   "execution_count": 1092,
   "metadata": {},
   "outputs": [
    {
     "data": {
      "text/html": [
       "<div>\n",
       "<style scoped>\n",
       "    .dataframe tbody tr th:only-of-type {\n",
       "        vertical-align: middle;\n",
       "    }\n",
       "\n",
       "    .dataframe tbody tr th {\n",
       "        vertical-align: top;\n",
       "    }\n",
       "\n",
       "    .dataframe thead th {\n",
       "        text-align: right;\n",
       "    }\n",
       "</style>\n",
       "<table border=\"1\" class=\"dataframe\">\n",
       "  <thead>\n",
       "    <tr style=\"text-align: right;\">\n",
       "      <th></th>\n",
       "      <th>Player</th>\n",
       "      <th>Mat</th>\n",
       "      <th>Inns</th>\n",
       "      <th>Overs</th>\n",
       "      <th>Mdns</th>\n",
       "      <th>Runs</th>\n",
       "      <th>Wkts</th>\n",
       "      <th>BBI</th>\n",
       "      <th>Ave</th>\n",
       "      <th>Econ</th>\n",
       "      <th>SR</th>\n",
       "      <th>4</th>\n",
       "      <th>5</th>\n",
       "    </tr>\n",
       "  </thead>\n",
       "  <tbody>\n",
       "    <tr>\n",
       "      <th>0</th>\n",
       "      <td>Kuldeep Yadav (INDIA)</td>\n",
       "      <td>25</td>\n",
       "      <td>25</td>\n",
       "      <td>221.2</td>\n",
       "      <td>5</td>\n",
       "      <td>1045</td>\n",
       "      <td>55</td>\n",
       "      <td>25-Jun</td>\n",
       "      <td>19</td>\n",
       "      <td>4.72</td>\n",
       "      <td>24.1</td>\n",
       "      <td>4</td>\n",
       "      <td>1</td>\n",
       "    </tr>\n",
       "    <tr>\n",
       "      <th>1</th>\n",
       "      <td>YS Chahal (INDIA)</td>\n",
       "      <td>23</td>\n",
       "      <td>23</td>\n",
       "      <td>207.1</td>\n",
       "      <td>3</td>\n",
       "      <td>1015</td>\n",
       "      <td>44</td>\n",
       "      <td>Jun-42</td>\n",
       "      <td>23.06</td>\n",
       "      <td>4.89</td>\n",
       "      <td>28.2</td>\n",
       "      <td>1</td>\n",
       "      <td>2</td>\n",
       "    </tr>\n",
       "    <tr>\n",
       "      <th>2</th>\n",
       "      <td>B Kumar (INDIA)</td>\n",
       "      <td>22</td>\n",
       "      <td>22</td>\n",
       "      <td>163.1</td>\n",
       "      <td>10</td>\n",
       "      <td>847</td>\n",
       "      <td>26</td>\n",
       "      <td>Apr-45</td>\n",
       "      <td>32.57</td>\n",
       "      <td>5.19</td>\n",
       "      <td>37.6</td>\n",
       "      <td>1</td>\n",
       "      <td>0</td>\n",
       "    </tr>\n",
       "    <tr>\n",
       "      <th>3</th>\n",
       "      <td>JJ Bumrah (INDIA)</td>\n",
       "      <td>13</td>\n",
       "      <td>13</td>\n",
       "      <td>100.5</td>\n",
       "      <td>9</td>\n",
       "      <td>366</td>\n",
       "      <td>22</td>\n",
       "      <td>Apr-35</td>\n",
       "      <td>16.63</td>\n",
       "      <td>3.62</td>\n",
       "      <td>27.5</td>\n",
       "      <td>1</td>\n",
       "      <td>0</td>\n",
       "    </tr>\n",
       "    <tr>\n",
       "      <th>4</th>\n",
       "      <td>Mohammed Shami (INDIA)</td>\n",
       "      <td>9</td>\n",
       "      <td>9</td>\n",
       "      <td>78.4</td>\n",
       "      <td>2</td>\n",
       "      <td>429</td>\n",
       "      <td>17</td>\n",
       "      <td>19-Mar</td>\n",
       "      <td>25.23</td>\n",
       "      <td>5.45</td>\n",
       "      <td>27.7</td>\n",
       "      <td>0</td>\n",
       "      <td>0</td>\n",
       "    </tr>\n",
       "  </tbody>\n",
       "</table>\n",
       "</div>"
      ],
      "text/plain": [
       "                   Player  Mat Inns  Overs Mdns  Runs Wkts     BBI    Ave  \\\n",
       "0   Kuldeep Yadav (INDIA)   25   25  221.2    5  1045   55  25-Jun     19   \n",
       "1       YS Chahal (INDIA)   23   23  207.1    3  1015   44  Jun-42  23.06   \n",
       "2         B Kumar (INDIA)   22   22  163.1   10   847   26  Apr-45  32.57   \n",
       "3       JJ Bumrah (INDIA)   13   13  100.5    9   366   22  Apr-35  16.63   \n",
       "4  Mohammed Shami (INDIA)    9    9   78.4    2   429   17  19-Mar  25.23   \n",
       "\n",
       "   Econ    SR  4  5  \n",
       "0  4.72  24.1  4  1  \n",
       "1  4.89  28.2  1  2  \n",
       "2  5.19  37.6  1  0  \n",
       "3  3.62  27.5  1  0  \n",
       "4  5.45  27.7  0  0  "
      ]
     },
     "execution_count": 1092,
     "metadata": {},
     "output_type": "execute_result"
    }
   ],
   "source": [
    "# Read batting stats\n",
    "df_bowl = pd.read_csv('Bowling_Stats.csv')\n",
    "df_bowl.head()"
   ]
  },
  {
   "cell_type": "code",
   "execution_count": 1093,
   "metadata": {},
   "outputs": [
    {
     "data": {
      "text/plain": [
       "(50, 13)"
      ]
     },
     "execution_count": 1093,
     "metadata": {},
     "output_type": "execute_result"
    }
   ],
   "source": [
    "df_bowl.shape"
   ]
  },
  {
   "cell_type": "code",
   "execution_count": 1094,
   "metadata": {},
   "outputs": [
    {
     "name": "stdout",
     "output_type": "stream",
     "text": [
      "<class 'pandas.core.frame.DataFrame'>\n",
      "RangeIndex: 50 entries, 0 to 49\n",
      "Data columns (total 13 columns):\n",
      "Player    50 non-null object\n",
      "Mat       50 non-null int64\n",
      "Inns      50 non-null object\n",
      "Overs     50 non-null object\n",
      "Mdns      50 non-null object\n",
      "Runs      50 non-null object\n",
      "Wkts      50 non-null object\n",
      "BBI       50 non-null object\n",
      "Ave       50 non-null object\n",
      "Econ      50 non-null object\n",
      "SR        50 non-null object\n",
      "4         50 non-null object\n",
      "5         50 non-null object\n",
      "dtypes: int64(1), object(12)\n",
      "memory usage: 5.2+ KB\n"
     ]
    }
   ],
   "source": [
    "df_bowl.info()"
   ]
  },
  {
   "cell_type": "code",
   "execution_count": 1095,
   "metadata": {
    "scrolled": false
   },
   "outputs": [
    {
     "data": {
      "text/html": [
       "<div>\n",
       "<style scoped>\n",
       "    .dataframe tbody tr th:only-of-type {\n",
       "        vertical-align: middle;\n",
       "    }\n",
       "\n",
       "    .dataframe tbody tr th {\n",
       "        vertical-align: top;\n",
       "    }\n",
       "\n",
       "    .dataframe thead th {\n",
       "        text-align: right;\n",
       "    }\n",
       "</style>\n",
       "<table border=\"1\" class=\"dataframe\">\n",
       "  <thead>\n",
       "    <tr style=\"text-align: right;\">\n",
       "      <th></th>\n",
       "      <th>Player</th>\n",
       "      <th>Mat</th>\n",
       "      <th>Inns</th>\n",
       "      <th>Overs</th>\n",
       "      <th>Mdns</th>\n",
       "      <th>Runs</th>\n",
       "      <th>Wkts</th>\n",
       "      <th>BBI</th>\n",
       "      <th>Ave</th>\n",
       "      <th>Econ</th>\n",
       "      <th>SR</th>\n",
       "      <th>4</th>\n",
       "      <th>5</th>\n",
       "    </tr>\n",
       "  </thead>\n",
       "  <tbody>\n",
       "    <tr>\n",
       "      <th>0</th>\n",
       "      <td>Kuldeep Yadav (INDIA)</td>\n",
       "      <td>25</td>\n",
       "      <td>25.0</td>\n",
       "      <td>221.2</td>\n",
       "      <td>5.0</td>\n",
       "      <td>1045.0</td>\n",
       "      <td>55.0</td>\n",
       "      <td>25-Jun</td>\n",
       "      <td>19.00</td>\n",
       "      <td>4.72</td>\n",
       "      <td>24.1</td>\n",
       "      <td>4.0</td>\n",
       "      <td>1.0</td>\n",
       "    </tr>\n",
       "    <tr>\n",
       "      <th>1</th>\n",
       "      <td>YS Chahal (INDIA)</td>\n",
       "      <td>23</td>\n",
       "      <td>23.0</td>\n",
       "      <td>207.1</td>\n",
       "      <td>3.0</td>\n",
       "      <td>1015.0</td>\n",
       "      <td>44.0</td>\n",
       "      <td>Jun-42</td>\n",
       "      <td>23.06</td>\n",
       "      <td>4.89</td>\n",
       "      <td>28.2</td>\n",
       "      <td>1.0</td>\n",
       "      <td>2.0</td>\n",
       "    </tr>\n",
       "    <tr>\n",
       "      <th>2</th>\n",
       "      <td>B Kumar (INDIA)</td>\n",
       "      <td>22</td>\n",
       "      <td>22.0</td>\n",
       "      <td>163.1</td>\n",
       "      <td>10.0</td>\n",
       "      <td>847.0</td>\n",
       "      <td>26.0</td>\n",
       "      <td>Apr-45</td>\n",
       "      <td>32.57</td>\n",
       "      <td>5.19</td>\n",
       "      <td>37.6</td>\n",
       "      <td>1.0</td>\n",
       "      <td>0.0</td>\n",
       "    </tr>\n",
       "    <tr>\n",
       "      <th>3</th>\n",
       "      <td>JJ Bumrah (INDIA)</td>\n",
       "      <td>13</td>\n",
       "      <td>13.0</td>\n",
       "      <td>100.5</td>\n",
       "      <td>9.0</td>\n",
       "      <td>366.0</td>\n",
       "      <td>22.0</td>\n",
       "      <td>Apr-35</td>\n",
       "      <td>16.63</td>\n",
       "      <td>3.62</td>\n",
       "      <td>27.5</td>\n",
       "      <td>1.0</td>\n",
       "      <td>0.0</td>\n",
       "    </tr>\n",
       "    <tr>\n",
       "      <th>4</th>\n",
       "      <td>Mohammed Shami (INDIA)</td>\n",
       "      <td>9</td>\n",
       "      <td>9.0</td>\n",
       "      <td>78.4</td>\n",
       "      <td>2.0</td>\n",
       "      <td>429.0</td>\n",
       "      <td>17.0</td>\n",
       "      <td>19-Mar</td>\n",
       "      <td>25.23</td>\n",
       "      <td>5.45</td>\n",
       "      <td>27.7</td>\n",
       "      <td>0.0</td>\n",
       "      <td>0.0</td>\n",
       "    </tr>\n",
       "  </tbody>\n",
       "</table>\n",
       "</div>"
      ],
      "text/plain": [
       "                   Player  Mat  Inns  Overs  Mdns    Runs  Wkts     BBI  \\\n",
       "0   Kuldeep Yadav (INDIA)   25  25.0  221.2   5.0  1045.0  55.0  25-Jun   \n",
       "1       YS Chahal (INDIA)   23  23.0  207.1   3.0  1015.0  44.0  Jun-42   \n",
       "2         B Kumar (INDIA)   22  22.0  163.1  10.0   847.0  26.0  Apr-45   \n",
       "3       JJ Bumrah (INDIA)   13  13.0  100.5   9.0   366.0  22.0  Apr-35   \n",
       "4  Mohammed Shami (INDIA)    9   9.0   78.4   2.0   429.0  17.0  19-Mar   \n",
       "\n",
       "     Ave  Econ    SR    4    5  \n",
       "0  19.00  4.72  24.1  4.0  1.0  \n",
       "1  23.06  4.89  28.2  1.0  2.0  \n",
       "2  32.57  5.19  37.6  1.0  0.0  \n",
       "3  16.63  3.62  27.5  1.0  0.0  \n",
       "4  25.23  5.45  27.7  0.0  0.0  "
      ]
     },
     "execution_count": 1095,
     "metadata": {},
     "output_type": "execute_result"
    }
   ],
   "source": [
    "cols = ['Inns', 'Overs', 'Mdns', 'Runs', 'Wkts', 'Ave', 'Econ', 'SR', '4', '5']\n",
    "df_bowl[cols] = df_bowl[cols].apply(pd.to_numeric, errors='coerce', axis=1)\n",
    "\n",
    "df_bowl.head()"
   ]
  },
  {
   "cell_type": "code",
   "execution_count": 1096,
   "metadata": {},
   "outputs": [
    {
     "name": "stdout",
     "output_type": "stream",
     "text": [
      "<class 'pandas.core.frame.DataFrame'>\n",
      "RangeIndex: 50 entries, 0 to 49\n",
      "Data columns (total 13 columns):\n",
      "Player    50 non-null object\n",
      "Mat       50 non-null int64\n",
      "Inns      37 non-null float64\n",
      "Overs     37 non-null float64\n",
      "Mdns      37 non-null float64\n",
      "Runs      37 non-null float64\n",
      "Wkts      37 non-null float64\n",
      "BBI       50 non-null object\n",
      "Ave       29 non-null float64\n",
      "Econ      37 non-null float64\n",
      "SR        29 non-null float64\n",
      "4         37 non-null float64\n",
      "5         37 non-null float64\n",
      "dtypes: float64(10), int64(1), object(2)\n",
      "memory usage: 5.2+ KB\n"
     ]
    }
   ],
   "source": [
    "df_bowl.info()"
   ]
  },
  {
   "cell_type": "code",
   "execution_count": 1097,
   "metadata": {},
   "outputs": [
    {
     "data": {
      "text/html": [
       "<div>\n",
       "<style scoped>\n",
       "    .dataframe tbody tr th:only-of-type {\n",
       "        vertical-align: middle;\n",
       "    }\n",
       "\n",
       "    .dataframe tbody tr th {\n",
       "        vertical-align: top;\n",
       "    }\n",
       "\n",
       "    .dataframe thead th {\n",
       "        text-align: right;\n",
       "    }\n",
       "</style>\n",
       "<table border=\"1\" class=\"dataframe\">\n",
       "  <thead>\n",
       "    <tr style=\"text-align: right;\">\n",
       "      <th></th>\n",
       "      <th>Player</th>\n",
       "      <th>Mat</th>\n",
       "      <th>Inns</th>\n",
       "      <th>Overs</th>\n",
       "      <th>Mdns</th>\n",
       "      <th>Runs</th>\n",
       "      <th>Wkts</th>\n",
       "      <th>BBI</th>\n",
       "      <th>Ave</th>\n",
       "      <th>Econ</th>\n",
       "      <th>SR</th>\n",
       "      <th>4</th>\n",
       "      <th>5</th>\n",
       "    </tr>\n",
       "  </thead>\n",
       "  <tbody>\n",
       "    <tr>\n",
       "      <th>0</th>\n",
       "      <td>Kuldeep Yadav (INDIA)</td>\n",
       "      <td>25</td>\n",
       "      <td>25.0</td>\n",
       "      <td>221.2</td>\n",
       "      <td>5.0</td>\n",
       "      <td>1045.0</td>\n",
       "      <td>55.0</td>\n",
       "      <td>25-Jun</td>\n",
       "      <td>19.00</td>\n",
       "      <td>4.72</td>\n",
       "      <td>24.1</td>\n",
       "      <td>4.0</td>\n",
       "      <td>1.0</td>\n",
       "    </tr>\n",
       "    <tr>\n",
       "      <th>1</th>\n",
       "      <td>YS Chahal (INDIA)</td>\n",
       "      <td>23</td>\n",
       "      <td>23.0</td>\n",
       "      <td>207.1</td>\n",
       "      <td>3.0</td>\n",
       "      <td>1015.0</td>\n",
       "      <td>44.0</td>\n",
       "      <td>Jun-42</td>\n",
       "      <td>23.06</td>\n",
       "      <td>4.89</td>\n",
       "      <td>28.2</td>\n",
       "      <td>1.0</td>\n",
       "      <td>2.0</td>\n",
       "    </tr>\n",
       "    <tr>\n",
       "      <th>2</th>\n",
       "      <td>B Kumar (INDIA)</td>\n",
       "      <td>22</td>\n",
       "      <td>22.0</td>\n",
       "      <td>163.1</td>\n",
       "      <td>10.0</td>\n",
       "      <td>847.0</td>\n",
       "      <td>26.0</td>\n",
       "      <td>Apr-45</td>\n",
       "      <td>32.57</td>\n",
       "      <td>5.19</td>\n",
       "      <td>37.6</td>\n",
       "      <td>1.0</td>\n",
       "      <td>0.0</td>\n",
       "    </tr>\n",
       "    <tr>\n",
       "      <th>3</th>\n",
       "      <td>JJ Bumrah (INDIA)</td>\n",
       "      <td>13</td>\n",
       "      <td>13.0</td>\n",
       "      <td>100.5</td>\n",
       "      <td>9.0</td>\n",
       "      <td>366.0</td>\n",
       "      <td>22.0</td>\n",
       "      <td>Apr-35</td>\n",
       "      <td>16.63</td>\n",
       "      <td>3.62</td>\n",
       "      <td>27.5</td>\n",
       "      <td>1.0</td>\n",
       "      <td>0.0</td>\n",
       "    </tr>\n",
       "    <tr>\n",
       "      <th>4</th>\n",
       "      <td>Mohammed Shami (INDIA)</td>\n",
       "      <td>9</td>\n",
       "      <td>9.0</td>\n",
       "      <td>78.4</td>\n",
       "      <td>2.0</td>\n",
       "      <td>429.0</td>\n",
       "      <td>17.0</td>\n",
       "      <td>19-Mar</td>\n",
       "      <td>25.23</td>\n",
       "      <td>5.45</td>\n",
       "      <td>27.7</td>\n",
       "      <td>0.0</td>\n",
       "      <td>0.0</td>\n",
       "    </tr>\n",
       "  </tbody>\n",
       "</table>\n",
       "</div>"
      ],
      "text/plain": [
       "                   Player  Mat  Inns  Overs  Mdns    Runs  Wkts     BBI  \\\n",
       "0   Kuldeep Yadav (INDIA)   25  25.0  221.2   5.0  1045.0  55.0  25-Jun   \n",
       "1       YS Chahal (INDIA)   23  23.0  207.1   3.0  1015.0  44.0  Jun-42   \n",
       "2         B Kumar (INDIA)   22  22.0  163.1  10.0   847.0  26.0  Apr-45   \n",
       "3       JJ Bumrah (INDIA)   13  13.0  100.5   9.0   366.0  22.0  Apr-35   \n",
       "4  Mohammed Shami (INDIA)    9   9.0   78.4   2.0   429.0  17.0  19-Mar   \n",
       "\n",
       "     Ave  Econ    SR    4    5  \n",
       "0  19.00  4.72  24.1  4.0  1.0  \n",
       "1  23.06  4.89  28.2  1.0  2.0  \n",
       "2  32.57  5.19  37.6  1.0  0.0  \n",
       "3  16.63  3.62  27.5  1.0  0.0  \n",
       "4  25.23  5.45  27.7  0.0  0.0  "
      ]
     },
     "execution_count": 1097,
     "metadata": {},
     "output_type": "execute_result"
    }
   ],
   "source": [
    "df_bowl.head()"
   ]
  },
  {
   "cell_type": "code",
   "execution_count": 1098,
   "metadata": {},
   "outputs": [
    {
     "name": "stdout",
     "output_type": "stream",
     "text": [
      "True\n",
      "146\n"
     ]
    }
   ],
   "source": [
    "# Check for NaN values in dataset\n",
    "print(df_bowl.isnull().values.any())\n",
    "print(df_bowl.isnull().values.sum())"
   ]
  },
  {
   "cell_type": "code",
   "execution_count": 1099,
   "metadata": {},
   "outputs": [
    {
     "data": {
      "text/plain": [
       "0      0\n",
       "1      0\n",
       "2      0\n",
       "3      0\n",
       "4      0\n",
       "5      0\n",
       "6      0\n",
       "7      0\n",
       "8      0\n",
       "9      0\n",
       "10     0\n",
       "11     0\n",
       "12     0\n",
       "13     0\n",
       "14     0\n",
       "15     0\n",
       "16     0\n",
       "17     0\n",
       "18     0\n",
       "19     0\n",
       "20     0\n",
       "21     0\n",
       "22     0\n",
       "23     0\n",
       "24     0\n",
       "25     0\n",
       "26     0\n",
       "27     0\n",
       "28     0\n",
       "29     2\n",
       "30     2\n",
       "31     2\n",
       "32     2\n",
       "33     2\n",
       "34     2\n",
       "35     2\n",
       "36     2\n",
       "37    10\n",
       "38    10\n",
       "39    10\n",
       "40    10\n",
       "41    10\n",
       "42    10\n",
       "43    10\n",
       "44    10\n",
       "45    10\n",
       "46    10\n",
       "47    10\n",
       "48    10\n",
       "49    10\n",
       "dtype: int64"
      ]
     },
     "execution_count": 1099,
     "metadata": {},
     "output_type": "execute_result"
    }
   ],
   "source": [
    "df_bowl.isnull().sum(axis=1)"
   ]
  },
  {
   "cell_type": "code",
   "execution_count": 1100,
   "metadata": {},
   "outputs": [],
   "source": [
    "# Let's drop the rows with NaN values\n",
    "df_bowl.dropna(inplace=True)"
   ]
  },
  {
   "cell_type": "code",
   "execution_count": 1101,
   "metadata": {},
   "outputs": [
    {
     "data": {
      "text/plain": [
       "True"
      ]
     },
     "execution_count": 1101,
     "metadata": {},
     "output_type": "execute_result"
    }
   ],
   "source": [
    "# Let's make sure that there are no duplicate rows in the dataset\n",
    "sum(df_bowl.duplicated(subset = 'Player')) == 0"
   ]
  },
  {
   "cell_type": "markdown",
   "metadata": {},
   "source": [
    "There are no duplicate rows in the dataset."
   ]
  },
  {
   "cell_type": "code",
   "execution_count": 1102,
   "metadata": {},
   "outputs": [
    {
     "data": {
      "text/html": [
       "<div>\n",
       "<style scoped>\n",
       "    .dataframe tbody tr th:only-of-type {\n",
       "        vertical-align: middle;\n",
       "    }\n",
       "\n",
       "    .dataframe tbody tr th {\n",
       "        vertical-align: top;\n",
       "    }\n",
       "\n",
       "    .dataframe thead th {\n",
       "        text-align: right;\n",
       "    }\n",
       "</style>\n",
       "<table border=\"1\" class=\"dataframe\">\n",
       "  <thead>\n",
       "    <tr style=\"text-align: right;\">\n",
       "      <th></th>\n",
       "      <th>Player</th>\n",
       "      <th>Mat</th>\n",
       "      <th>Inns</th>\n",
       "      <th>Overs</th>\n",
       "      <th>Mdns</th>\n",
       "      <th>Runs</th>\n",
       "      <th>Wkts</th>\n",
       "      <th>BBI</th>\n",
       "      <th>Ave</th>\n",
       "      <th>Econ</th>\n",
       "      <th>SR</th>\n",
       "      <th>4</th>\n",
       "      <th>5</th>\n",
       "    </tr>\n",
       "  </thead>\n",
       "  <tbody>\n",
       "    <tr>\n",
       "      <th>0</th>\n",
       "      <td>Kuldeep Yadav (INDIA)</td>\n",
       "      <td>25</td>\n",
       "      <td>25.0</td>\n",
       "      <td>221.2</td>\n",
       "      <td>5.0</td>\n",
       "      <td>1045.0</td>\n",
       "      <td>55.0</td>\n",
       "      <td>25-Jun</td>\n",
       "      <td>19.00</td>\n",
       "      <td>4.72</td>\n",
       "      <td>24.1</td>\n",
       "      <td>4.0</td>\n",
       "      <td>1.0</td>\n",
       "    </tr>\n",
       "    <tr>\n",
       "      <th>1</th>\n",
       "      <td>YS Chahal (INDIA)</td>\n",
       "      <td>23</td>\n",
       "      <td>23.0</td>\n",
       "      <td>207.1</td>\n",
       "      <td>3.0</td>\n",
       "      <td>1015.0</td>\n",
       "      <td>44.0</td>\n",
       "      <td>Jun-42</td>\n",
       "      <td>23.06</td>\n",
       "      <td>4.89</td>\n",
       "      <td>28.2</td>\n",
       "      <td>1.0</td>\n",
       "      <td>2.0</td>\n",
       "    </tr>\n",
       "    <tr>\n",
       "      <th>2</th>\n",
       "      <td>B Kumar (INDIA)</td>\n",
       "      <td>22</td>\n",
       "      <td>22.0</td>\n",
       "      <td>163.1</td>\n",
       "      <td>10.0</td>\n",
       "      <td>847.0</td>\n",
       "      <td>26.0</td>\n",
       "      <td>Apr-45</td>\n",
       "      <td>32.57</td>\n",
       "      <td>5.19</td>\n",
       "      <td>37.6</td>\n",
       "      <td>1.0</td>\n",
       "      <td>0.0</td>\n",
       "    </tr>\n",
       "    <tr>\n",
       "      <th>3</th>\n",
       "      <td>JJ Bumrah (INDIA)</td>\n",
       "      <td>13</td>\n",
       "      <td>13.0</td>\n",
       "      <td>100.5</td>\n",
       "      <td>9.0</td>\n",
       "      <td>366.0</td>\n",
       "      <td>22.0</td>\n",
       "      <td>Apr-35</td>\n",
       "      <td>16.63</td>\n",
       "      <td>3.62</td>\n",
       "      <td>27.5</td>\n",
       "      <td>1.0</td>\n",
       "      <td>0.0</td>\n",
       "    </tr>\n",
       "    <tr>\n",
       "      <th>4</th>\n",
       "      <td>Mohammed Shami (INDIA)</td>\n",
       "      <td>9</td>\n",
       "      <td>9.0</td>\n",
       "      <td>78.4</td>\n",
       "      <td>2.0</td>\n",
       "      <td>429.0</td>\n",
       "      <td>17.0</td>\n",
       "      <td>19-Mar</td>\n",
       "      <td>25.23</td>\n",
       "      <td>5.45</td>\n",
       "      <td>27.7</td>\n",
       "      <td>0.0</td>\n",
       "      <td>0.0</td>\n",
       "    </tr>\n",
       "  </tbody>\n",
       "</table>\n",
       "</div>"
      ],
      "text/plain": [
       "                   Player  Mat  Inns  Overs  Mdns    Runs  Wkts     BBI  \\\n",
       "0   Kuldeep Yadav (INDIA)   25  25.0  221.2   5.0  1045.0  55.0  25-Jun   \n",
       "1       YS Chahal (INDIA)   23  23.0  207.1   3.0  1015.0  44.0  Jun-42   \n",
       "2         B Kumar (INDIA)   22  22.0  163.1  10.0   847.0  26.0  Apr-45   \n",
       "3       JJ Bumrah (INDIA)   13  13.0  100.5   9.0   366.0  22.0  Apr-35   \n",
       "4  Mohammed Shami (INDIA)    9   9.0   78.4   2.0   429.0  17.0  19-Mar   \n",
       "\n",
       "     Ave  Econ    SR    4    5  \n",
       "0  19.00  4.72  24.1  4.0  1.0  \n",
       "1  23.06  4.89  28.2  1.0  2.0  \n",
       "2  32.57  5.19  37.6  1.0  0.0  \n",
       "3  16.63  3.62  27.5  1.0  0.0  \n",
       "4  25.23  5.45  27.7  0.0  0.0  "
      ]
     },
     "execution_count": 1102,
     "metadata": {},
     "output_type": "execute_result"
    }
   ],
   "source": [
    "# Let's sort the dataframe by Wickets taken and check the result\n",
    "df_bowl.sort_values(by=['Wkts'], ascending=False).head()"
   ]
  },
  {
   "cell_type": "markdown",
   "metadata": {},
   "source": [
    "Observations:\n",
    "- Top 5 bowlers in wicket taking category are Indians.\n",
    "- Match is in India, so there are good chances Indian players might take more wickets as they are well versed with the conditions."
   ]
  },
  {
   "cell_type": "markdown",
   "metadata": {},
   "source": [
    "- But total wickets taken in past cannot be used for precdicting the highest wicket taker of the series.\n",
    "- Other variables like Mdns, Wkts, Ave, Econ, also plays an important role."
   ]
  },
  {
   "cell_type": "markdown",
   "metadata": {},
   "source": [
    "Let's check if there is any correlation between these variables."
   ]
  },
  {
   "cell_type": "code",
   "execution_count": 1103,
   "metadata": {},
   "outputs": [
    {
     "data": {
      "text/plain": [
       "Index(['Player', 'Mat', 'Inns', 'Overs', 'Mdns', 'Runs', 'Wkts', 'BBI', 'Ave',\n",
       "       'Econ', 'SR', '4', '5'],\n",
       "      dtype='object')"
      ]
     },
     "execution_count": 1103,
     "metadata": {},
     "output_type": "execute_result"
    }
   ],
   "source": [
    "df_bowl.columns"
   ]
  },
  {
   "cell_type": "code",
   "execution_count": 1104,
   "metadata": {},
   "outputs": [],
   "source": [
    "# These variables will play important role in predicting the highest scorer\n",
    "h_wkt = ['Mdns', 'Wkts', 'Ave', 'Econ']\n",
    "df_h_wkt = df_bowl[h_wkt]"
   ]
  },
  {
   "cell_type": "code",
   "execution_count": 1105,
   "metadata": {},
   "outputs": [
    {
     "data": {
      "text/plain": [
       "<matplotlib.axes._subplots.AxesSubplot at 0x2532660f8d0>"
      ]
     },
     "execution_count": 1105,
     "metadata": {},
     "output_type": "execute_result"
    },
    {
     "data": {
      "image/png": "[encoded data removed]",
      "text/plain": [
       "<Figure size 576x432 with 2 Axes>"
      ]
     },
     "metadata": {},
     "output_type": "display_data"
    }
   ],
   "source": [
    "plt.figure(figsize = (8,6))\n",
    "sns.heatmap(df_h_wkt.corr(),annot = True)"
   ]
  },
  {
   "cell_type": "markdown",
   "metadata": {},
   "source": [
    "* Above heatmap shows some variables with negative correlation. For e.g.\n",
    "    - Econ and Mdns - This means a player with more maiden overs has a better the economy rate."
   ]
  },
  {
   "cell_type": "markdown",
   "metadata": {},
   "source": [
    "From correlation matrix we can see there is a lot of multicollinearity. Let's use PCA and reduce the number of variables."
   ]
  },
  {
   "cell_type": "markdown",
   "metadata": {},
   "source": [
    "### PCA"
   ]
  },
  {
   "cell_type": "code",
   "execution_count": 1106,
   "metadata": {},
   "outputs": [],
   "source": [
    "stand_X = StandardScaler().fit_transform(df_h_wkt)"
   ]
  },
  {
   "cell_type": "code",
   "execution_count": 1107,
   "metadata": {},
   "outputs": [
    {
     "data": {
      "text/html": [
       "<div>\n",
       "<style scoped>\n",
       "    .dataframe tbody tr th:only-of-type {\n",
       "        vertical-align: middle;\n",
       "    }\n",
       "\n",
       "    .dataframe tbody tr th {\n",
       "        vertical-align: top;\n",
       "    }\n",
       "\n",
       "    .dataframe thead th {\n",
       "        text-align: right;\n",
       "    }\n",
       "</style>\n",
       "<table border=\"1\" class=\"dataframe\">\n",
       "  <thead>\n",
       "    <tr style=\"text-align: right;\">\n",
       "      <th></th>\n",
       "      <th>Mdns</th>\n",
       "      <th>Wkts</th>\n",
       "      <th>Ave</th>\n",
       "      <th>Econ</th>\n",
       "    </tr>\n",
       "  </thead>\n",
       "  <tbody>\n",
       "    <tr>\n",
       "      <th>0</th>\n",
       "      <td>1.030429</td>\n",
       "      <td>3.550394</td>\n",
       "      <td>-0.748304</td>\n",
       "      <td>-0.861116</td>\n",
       "    </tr>\n",
       "    <tr>\n",
       "      <th>1</th>\n",
       "      <td>0.254262</td>\n",
       "      <td>2.662796</td>\n",
       "      <td>-0.650454</td>\n",
       "      <td>-0.716472</td>\n",
       "    </tr>\n",
       "    <tr>\n",
       "      <th>2</th>\n",
       "      <td>2.970847</td>\n",
       "      <td>1.210362</td>\n",
       "      <td>-0.421253</td>\n",
       "      <td>-0.461218</td>\n",
       "    </tr>\n",
       "    <tr>\n",
       "      <th>3</th>\n",
       "      <td>2.582763</td>\n",
       "      <td>0.887599</td>\n",
       "      <td>-0.805424</td>\n",
       "      <td>-1.797049</td>\n",
       "    </tr>\n",
       "    <tr>\n",
       "      <th>4</th>\n",
       "      <td>-0.133822</td>\n",
       "      <td>0.484145</td>\n",
       "      <td>-0.598155</td>\n",
       "      <td>-0.239998</td>\n",
       "    </tr>\n",
       "  </tbody>\n",
       "</table>\n",
       "</div>"
      ],
      "text/plain": [
       "       Mdns      Wkts       Ave      Econ\n",
       "0  1.030429  3.550394 -0.748304 -0.861116\n",
       "1  0.254262  2.662796 -0.650454 -0.716472\n",
       "2  2.970847  1.210362 -0.421253 -0.461218\n",
       "3  2.582763  0.887599 -0.805424 -1.797049\n",
       "4 -0.133822  0.484145 -0.598155 -0.239998"
      ]
     },
     "execution_count": 1107,
     "metadata": {},
     "output_type": "execute_result"
    }
   ],
   "source": [
    "df_h_wkt = pd.DataFrame(stand_X, columns = h_wkt)\n",
    "df_h_wkt.head()"
   ]
  },
  {
   "cell_type": "code",
   "execution_count": 1108,
   "metadata": {},
   "outputs": [],
   "source": [
    "#PCA\n",
    "pca = PCA(svd_solver='randomized', random_state=100)"
   ]
  },
  {
   "cell_type": "code",
   "execution_count": 1109,
   "metadata": {},
   "outputs": [],
   "source": [
    "principalComponents = pca.fit_transform(df_h_wkt)"
   ]
  },
  {
   "cell_type": "code",
   "execution_count": 1110,
   "metadata": {},
   "outputs": [
    {
     "data": {
      "text/html": [
       "<div>\n",
       "<style scoped>\n",
       "    .dataframe tbody tr th:only-of-type {\n",
       "        vertical-align: middle;\n",
       "    }\n",
       "\n",
       "    .dataframe tbody tr th {\n",
       "        vertical-align: top;\n",
       "    }\n",
       "\n",
       "    .dataframe thead th {\n",
       "        text-align: right;\n",
       "    }\n",
       "</style>\n",
       "<table border=\"1\" class=\"dataframe\">\n",
       "  <thead>\n",
       "    <tr style=\"text-align: right;\">\n",
       "      <th></th>\n",
       "      <th>Feature</th>\n",
       "      <th>PC1</th>\n",
       "      <th>PC2</th>\n",
       "      <th>PC3</th>\n",
       "      <th>PC4</th>\n",
       "    </tr>\n",
       "  </thead>\n",
       "  <tbody>\n",
       "    <tr>\n",
       "      <th>0</th>\n",
       "      <td>Mdns</td>\n",
       "      <td>0.576219</td>\n",
       "      <td>0.121337</td>\n",
       "      <td>-0.375476</td>\n",
       "      <td>0.715728</td>\n",
       "    </tr>\n",
       "    <tr>\n",
       "      <th>1</th>\n",
       "      <td>Wkts</td>\n",
       "      <td>0.544810</td>\n",
       "      <td>-0.113990</td>\n",
       "      <td>0.830613</td>\n",
       "      <td>0.016454</td>\n",
       "    </tr>\n",
       "    <tr>\n",
       "      <th>2</th>\n",
       "      <td>Ave</td>\n",
       "      <td>-0.383188</td>\n",
       "      <td>0.774577</td>\n",
       "      <td>0.350486</td>\n",
       "      <td>0.361051</td>\n",
       "    </tr>\n",
       "    <tr>\n",
       "      <th>3</th>\n",
       "      <td>Econ</td>\n",
       "      <td>-0.473625</td>\n",
       "      <td>-0.610176</td>\n",
       "      <td>0.215081</td>\n",
       "      <td>0.597582</td>\n",
       "    </tr>\n",
       "  </tbody>\n",
       "</table>\n",
       "</div>"
      ],
      "text/plain": [
       "  Feature       PC1       PC2       PC3       PC4\n",
       "0    Mdns  0.576219  0.121337 -0.375476  0.715728\n",
       "1    Wkts  0.544810 -0.113990  0.830613  0.016454\n",
       "2     Ave -0.383188  0.774577  0.350486  0.361051\n",
       "3    Econ -0.473625 -0.610176  0.215081  0.597582"
      ]
     },
     "execution_count": 1110,
     "metadata": {},
     "output_type": "execute_result"
    }
   ],
   "source": [
    "df_pcs = pd.DataFrame({'Feature':h_wkt,\n",
    "                       'PC1':pca.components_[0],\n",
    "                       'PC2':pca.components_[1],\n",
    "                       'PC3':pca.components_[2],\n",
    "                       'PC4':pca.components_[3]})\n",
    "df_pcs"
   ]
  },
  {
   "cell_type": "markdown",
   "metadata": {},
   "source": [
    "We'll plot original features on the first 2 principal components as axes"
   ]
  },
  {
   "cell_type": "code",
   "execution_count": 1111,
   "metadata": {},
   "outputs": [
    {
     "data": {
      "image/png": "[encoded data removed]",
      "text/plain": [
       "<Figure size 576x576 with 1 Axes>"
      ]
     },
     "metadata": {},
     "output_type": "display_data"
    }
   ],
   "source": [
    "%matplotlib inline\n",
    "fig = plt.figure(figsize = (8,8))\n",
    "plt.scatter(df_pcs.PC1, df_pcs.PC2)\n",
    "plt.xlabel('Principal Component 1')\n",
    "plt.ylabel('Principal Component 2')\n",
    "for i, txt in enumerate(df_pcs.Feature):\n",
    "    plt.annotate(txt, (df_pcs.PC1[i],df_pcs.PC2[i]))\n",
    "plt.tight_layout()\n",
    "plt.show()"
   ]
  },
  {
   "cell_type": "markdown",
   "metadata": {},
   "source": [
    "- Looks like number of maiden overs and Number of wickets have the highest value in PC1.\n",
    "- PC2 has average runs given per over as a mojor component."
   ]
  },
  {
   "cell_type": "markdown",
   "metadata": {},
   "source": [
    "Let's look at the screeplot to assess the number of principal components we would need for further analysis"
   ]
  },
  {
   "cell_type": "markdown",
   "metadata": {},
   "source": [
    "Explained Variance"
   ]
  },
  {
   "cell_type": "code",
   "execution_count": 1112,
   "metadata": {},
   "outputs": [
    {
     "data": {
      "text/plain": [
       "array([2.28525839, 0.98329059, 0.49937947, 0.37492869])"
      ]
     },
     "execution_count": 1112,
     "metadata": {},
     "output_type": "execute_result"
    }
   ],
   "source": [
    "pca.explained_variance_"
   ]
  },
  {
   "cell_type": "code",
   "execution_count": 1113,
   "metadata": {},
   "outputs": [
    {
     "name": "stdout",
     "output_type": "stream",
     "text": [
      "pca.explained_variance_ratio_:  [55.2 23.7 12.1  9.1]\n"
     ]
    }
   ],
   "source": [
    "print(\"pca.explained_variance_ratio_: \",pca.explained_variance_ratio_.round(3)*100)"
   ]
  },
  {
   "cell_type": "code",
   "execution_count": 1114,
   "metadata": {},
   "outputs": [
    {
     "name": "stdout",
     "output_type": "stream",
     "text": [
      "[0.55161409 0.7889601  0.90949997 1.        ]\n"
     ]
    }
   ],
   "source": [
    "print(pca.explained_variance_ratio_.cumsum())"
   ]
  },
  {
   "cell_type": "code",
   "execution_count": 1115,
   "metadata": {},
   "outputs": [
    {
     "data": {
      "text/plain": [
       "array([55.16, 78.89, 90.94, 99.99])"
      ]
     },
     "execution_count": 1115,
     "metadata": {},
     "output_type": "execute_result"
    }
   ],
   "source": [
    "np.cumsum(np.round(pca.explained_variance_ratio_, decimals=4)*100)"
   ]
  },
  {
   "cell_type": "markdown",
   "metadata": {},
   "source": [
    "First three PCs explain 91% of the variance"
   ]
  },
  {
   "cell_type": "code",
   "execution_count": 1116,
   "metadata": {},
   "outputs": [
    {
     "data": {
      "image/png": "[encoded data removed]",
      "text/plain": [
       "<Figure size 864x576 with 1 Axes>"
      ]
     },
     "metadata": {},
     "output_type": "display_data"
    }
   ],
   "source": [
    "#Making the screeplot - plotting the cumulative variance against the number of components\n",
    "%matplotlib inline\n",
    "fig = plt.figure(figsize = (12,8))\n",
    "plt.plot(np.cumsum(pca.explained_variance_ratio_))\n",
    "plt.xlabel('number of components')\n",
    "plt.ylabel('cumulative explained variance')\n",
    "plt.show()"
   ]
  },
  {
   "cell_type": "markdown",
   "metadata": {},
   "source": [
    "Let's pick two PCs"
   ]
  },
  {
   "cell_type": "code",
   "execution_count": 1117,
   "metadata": {},
   "outputs": [],
   "source": [
    "pca_final = IncrementalPCA(n_components=3)"
   ]
  },
  {
   "cell_type": "code",
   "execution_count": 1118,
   "metadata": {},
   "outputs": [],
   "source": [
    "# Basis transformation - get the data onto PCs\n",
    "pca_final = pca_final.fit_transform(df_h_wkt)"
   ]
  },
  {
   "cell_type": "code",
   "execution_count": 1119,
   "metadata": {},
   "outputs": [
    {
     "data": {
      "text/plain": [
       "(29, 3)"
      ]
     },
     "execution_count": 1119,
     "metadata": {},
     "output_type": "execute_result"
    }
   ],
   "source": [
    "pca_final.shape"
   ]
  },
  {
   "cell_type": "markdown",
   "metadata": {},
   "source": [
    "#### Create correlation matrix for the principal components"
   ]
  },
  {
   "cell_type": "markdown",
   "metadata": {},
   "source": [
    "Let's verify that the principal components are not correlated"
   ]
  },
  {
   "cell_type": "code",
   "execution_count": 1120,
   "metadata": {},
   "outputs": [],
   "source": [
    "#creating correlation matrix for the principal components\n",
    "corrmat = np.corrcoef(pca_final.transpose())"
   ]
  },
  {
   "cell_type": "code",
   "execution_count": 1121,
   "metadata": {
    "scrolled": false
   },
   "outputs": [
    {
     "data": {
      "text/plain": [
       "<matplotlib.axes._subplots.AxesSubplot at 0x25327641048>"
      ]
     },
     "execution_count": 1121,
     "metadata": {},
     "output_type": "execute_result"
    },
    {
     "data": {
      "image/png": "[encoded data removed]",
      "text/plain": [
       "<Figure size 720x360 with 2 Axes>"
      ]
     },
     "metadata": {},
     "output_type": "display_data"
    }
   ],
   "source": [
    "#plotting the correlation matrix\n",
    "%matplotlib inline\n",
    "plt.figure(figsize = (10,5))\n",
    "sns.heatmap(corrmat,annot = True)"
   ]
  },
  {
   "cell_type": "code",
   "execution_count": 1122,
   "metadata": {},
   "outputs": [
    {
     "name": "stdout",
     "output_type": "stream",
     "text": [
      "max corr: 0.018535812811246496 , min corr:  -0.00451297433087619\n"
     ]
    }
   ],
   "source": [
    "corrmat_nodiag = corrmat - np.diagflat(corrmat.diagonal())\n",
    "print(\"max corr:\",corrmat_nodiag.max(), \", min corr: \", corrmat_nodiag.min(),)"
   ]
  },
  {
   "cell_type": "markdown",
   "metadata": {},
   "source": [
    "We see that correlations are indeed very close to 0, i.e., we have effectively removed multicollinearity from the dataset."
   ]
  },
  {
   "cell_type": "markdown",
   "metadata": {},
   "source": [
    "#### Create dataframe containing the 4 principal components"
   ]
  },
  {
   "cell_type": "code",
   "execution_count": 1123,
   "metadata": {},
   "outputs": [
    {
     "data": {
      "text/html": [
       "<div>\n",
       "<style scoped>\n",
       "    .dataframe tbody tr th:only-of-type {\n",
       "        vertical-align: middle;\n",
       "    }\n",
       "\n",
       "    .dataframe tbody tr th {\n",
       "        vertical-align: top;\n",
       "    }\n",
       "\n",
       "    .dataframe thead th {\n",
       "        text-align: right;\n",
       "    }\n",
       "</style>\n",
       "<table border=\"1\" class=\"dataframe\">\n",
       "  <thead>\n",
       "    <tr style=\"text-align: right;\">\n",
       "      <th></th>\n",
       "      <th>PC1</th>\n",
       "      <th>PC2</th>\n",
       "      <th>PC3</th>\n",
       "    </tr>\n",
       "  </thead>\n",
       "  <tbody>\n",
       "    <tr>\n",
       "      <th>0</th>\n",
       "      <td>3.224447</td>\n",
       "      <td>-0.408318</td>\n",
       "      <td>2.097837</td>\n",
       "    </tr>\n",
       "    <tr>\n",
       "      <th>1</th>\n",
       "      <td>2.186560</td>\n",
       "      <td>-0.392555</td>\n",
       "      <td>1.732032</td>\n",
       "    </tr>\n",
       "    <tr>\n",
       "      <th>2</th>\n",
       "      <td>2.752981</td>\n",
       "      <td>0.152063</td>\n",
       "      <td>-0.405149</td>\n",
       "    </tr>\n",
       "    <tr>\n",
       "      <th>3</th>\n",
       "      <td>3.134040</td>\n",
       "      <td>0.686729</td>\n",
       "      <td>-0.901905</td>\n",
       "    </tr>\n",
       "    <tr>\n",
       "      <th>4</th>\n",
       "      <td>0.527395</td>\n",
       "      <td>-0.390665</td>\n",
       "      <td>0.192100</td>\n",
       "    </tr>\n",
       "  </tbody>\n",
       "</table>\n",
       "</div>"
      ],
      "text/plain": [
       "        PC1       PC2       PC3\n",
       "0  3.224447 -0.408318  2.097837\n",
       "1  2.186560 -0.392555  1.732032\n",
       "2  2.752981  0.152063 -0.405149\n",
       "3  3.134040  0.686729 -0.901905\n",
       "4  0.527395 -0.390665  0.192100"
      ]
     },
     "execution_count": 1123,
     "metadata": {},
     "output_type": "execute_result"
    }
   ],
   "source": [
    "df_pca_final = pd.DataFrame(data = pca_final, columns = ['PC1', 'PC2', 'PC3'])\n",
    "df_pca_final.head()"
   ]
  },
  {
   "cell_type": "code",
   "execution_count": 1124,
   "metadata": {},
   "outputs": [
    {
     "data": {
      "text/plain": [
       "(29, 3)"
      ]
     },
     "execution_count": 1124,
     "metadata": {},
     "output_type": "execute_result"
    }
   ],
   "source": [
    "df_pca_final.shape"
   ]
  },
  {
   "cell_type": "code",
   "execution_count": 1125,
   "metadata": {},
   "outputs": [
    {
     "data": {
      "text/html": [
       "<div>\n",
       "<style scoped>\n",
       "    .dataframe tbody tr th:only-of-type {\n",
       "        vertical-align: middle;\n",
       "    }\n",
       "\n",
       "    .dataframe tbody tr th {\n",
       "        vertical-align: top;\n",
       "    }\n",
       "\n",
       "    .dataframe thead th {\n",
       "        text-align: right;\n",
       "    }\n",
       "</style>\n",
       "<table border=\"1\" class=\"dataframe\">\n",
       "  <thead>\n",
       "    <tr style=\"text-align: right;\">\n",
       "      <th></th>\n",
       "      <th>Player</th>\n",
       "    </tr>\n",
       "  </thead>\n",
       "  <tbody>\n",
       "    <tr>\n",
       "      <th>0</th>\n",
       "      <td>Kuldeep Yadav (INDIA)</td>\n",
       "    </tr>\n",
       "    <tr>\n",
       "      <th>1</th>\n",
       "      <td>YS Chahal (INDIA)</td>\n",
       "    </tr>\n",
       "    <tr>\n",
       "      <th>2</th>\n",
       "      <td>B Kumar (INDIA)</td>\n",
       "    </tr>\n",
       "    <tr>\n",
       "      <th>3</th>\n",
       "      <td>JJ Bumrah (INDIA)</td>\n",
       "    </tr>\n",
       "    <tr>\n",
       "      <th>4</th>\n",
       "      <td>Mohammed Shami (INDIA)</td>\n",
       "    </tr>\n",
       "  </tbody>\n",
       "</table>\n",
       "</div>"
      ],
      "text/plain": [
       "                   Player\n",
       "0   Kuldeep Yadav (INDIA)\n",
       "1       YS Chahal (INDIA)\n",
       "2         B Kumar (INDIA)\n",
       "3       JJ Bumrah (INDIA)\n",
       "4  Mohammed Shami (INDIA)"
      ]
     },
     "execution_count": 1125,
     "metadata": {},
     "output_type": "execute_result"
    }
   ],
   "source": [
    "df_bowl[['Player']].head()"
   ]
  },
  {
   "cell_type": "code",
   "execution_count": 1126,
   "metadata": {},
   "outputs": [
    {
     "data": {
      "text/html": [
       "<div>\n",
       "<style scoped>\n",
       "    .dataframe tbody tr th:only-of-type {\n",
       "        vertical-align: middle;\n",
       "    }\n",
       "\n",
       "    .dataframe tbody tr th {\n",
       "        vertical-align: top;\n",
       "    }\n",
       "\n",
       "    .dataframe thead th {\n",
       "        text-align: right;\n",
       "    }\n",
       "</style>\n",
       "<table border=\"1\" class=\"dataframe\">\n",
       "  <thead>\n",
       "    <tr style=\"text-align: right;\">\n",
       "      <th></th>\n",
       "      <th>Player</th>\n",
       "      <th>PC1</th>\n",
       "      <th>PC2</th>\n",
       "      <th>PC3</th>\n",
       "    </tr>\n",
       "  </thead>\n",
       "  <tbody>\n",
       "    <tr>\n",
       "      <th>0</th>\n",
       "      <td>Kuldeep Yadav (INDIA)</td>\n",
       "      <td>3.224447</td>\n",
       "      <td>-0.408318</td>\n",
       "      <td>2.097837</td>\n",
       "    </tr>\n",
       "    <tr>\n",
       "      <th>1</th>\n",
       "      <td>YS Chahal (INDIA)</td>\n",
       "      <td>2.186560</td>\n",
       "      <td>-0.392555</td>\n",
       "      <td>1.732032</td>\n",
       "    </tr>\n",
       "    <tr>\n",
       "      <th>2</th>\n",
       "      <td>B Kumar (INDIA)</td>\n",
       "      <td>2.752981</td>\n",
       "      <td>0.152063</td>\n",
       "      <td>-0.405149</td>\n",
       "    </tr>\n",
       "    <tr>\n",
       "      <th>3</th>\n",
       "      <td>JJ Bumrah (INDIA)</td>\n",
       "      <td>3.134040</td>\n",
       "      <td>0.686729</td>\n",
       "      <td>-0.901905</td>\n",
       "    </tr>\n",
       "    <tr>\n",
       "      <th>4</th>\n",
       "      <td>Mohammed Shami (INDIA)</td>\n",
       "      <td>0.527395</td>\n",
       "      <td>-0.390665</td>\n",
       "      <td>0.192100</td>\n",
       "    </tr>\n",
       "    <tr>\n",
       "      <th>5</th>\n",
       "      <td>MP Stoinis (AUS)</td>\n",
       "      <td>-0.151061</td>\n",
       "      <td>-0.636565</td>\n",
       "      <td>0.586901</td>\n",
       "    </tr>\n",
       "    <tr>\n",
       "      <th>6</th>\n",
       "      <td>RA Jadeja (INDIA)</td>\n",
       "      <td>1.163159</td>\n",
       "      <td>0.186812</td>\n",
       "      <td>-0.239182</td>\n",
       "    </tr>\n",
       "    <tr>\n",
       "      <th>7</th>\n",
       "      <td>JA Richardson (AUS)</td>\n",
       "      <td>0.879051</td>\n",
       "      <td>-0.265663</td>\n",
       "      <td>-0.454672</td>\n",
       "    </tr>\n",
       "    <tr>\n",
       "      <th>8</th>\n",
       "      <td>AJ Tye (AUS)</td>\n",
       "      <td>-0.235396</td>\n",
       "      <td>-0.571685</td>\n",
       "      <td>0.172690</td>\n",
       "    </tr>\n",
       "    <tr>\n",
       "      <th>9</th>\n",
       "      <td>KK Ahmed (INDIA)</td>\n",
       "      <td>0.249635</td>\n",
       "      <td>-0.174686</td>\n",
       "      <td>-0.173675</td>\n",
       "    </tr>\n",
       "  </tbody>\n",
       "</table>\n",
       "</div>"
      ],
      "text/plain": [
       "                   Player       PC1       PC2       PC3\n",
       "0   Kuldeep Yadav (INDIA)  3.224447 -0.408318  2.097837\n",
       "1       YS Chahal (INDIA)  2.186560 -0.392555  1.732032\n",
       "2         B Kumar (INDIA)  2.752981  0.152063 -0.405149\n",
       "3       JJ Bumrah (INDIA)  3.134040  0.686729 -0.901905\n",
       "4  Mohammed Shami (INDIA)  0.527395 -0.390665  0.192100\n",
       "5        MP Stoinis (AUS) -0.151061 -0.636565  0.586901\n",
       "6       RA Jadeja (INDIA)  1.163159  0.186812 -0.239182\n",
       "7     JA Richardson (AUS)  0.879051 -0.265663 -0.454672\n",
       "8            AJ Tye (AUS) -0.235396 -0.571685  0.172690\n",
       "9        KK Ahmed (INDIA)  0.249635 -0.174686 -0.173675"
      ]
     },
     "execution_count": 1126,
     "metadata": {},
     "output_type": "execute_result"
    }
   ],
   "source": [
    "df_post_pca = pd.concat([df_bowl[['Player']], df_pca_final], axis = 1)\n",
    "df_post_pca.head(10)"
   ]
  },
  {
   "cell_type": "markdown",
   "metadata": {},
   "source": [
    "This is the final dataset we obtained after performing PCA and reducing the number of variables to 2."
   ]
  },
  {
   "cell_type": "code",
   "execution_count": 1127,
   "metadata": {},
   "outputs": [
    {
     "data": {
      "text/html": [
       "<div>\n",
       "<style scoped>\n",
       "    .dataframe tbody tr th:only-of-type {\n",
       "        vertical-align: middle;\n",
       "    }\n",
       "\n",
       "    .dataframe tbody tr th {\n",
       "        vertical-align: top;\n",
       "    }\n",
       "\n",
       "    .dataframe thead th {\n",
       "        text-align: right;\n",
       "    }\n",
       "</style>\n",
       "<table border=\"1\" class=\"dataframe\">\n",
       "  <thead>\n",
       "    <tr style=\"text-align: right;\">\n",
       "      <th></th>\n",
       "      <th>Player</th>\n",
       "      <th>PC1</th>\n",
       "      <th>PC2</th>\n",
       "      <th>PC3</th>\n",
       "    </tr>\n",
       "  </thead>\n",
       "  <tbody>\n",
       "    <tr>\n",
       "      <th>0</th>\n",
       "      <td>Kuldeep Yadav (INDIA)</td>\n",
       "      <td>3.224447</td>\n",
       "      <td>-0.408318</td>\n",
       "      <td>2.097837</td>\n",
       "    </tr>\n",
       "    <tr>\n",
       "      <th>3</th>\n",
       "      <td>JJ Bumrah (INDIA)</td>\n",
       "      <td>3.134040</td>\n",
       "      <td>0.686729</td>\n",
       "      <td>-0.901905</td>\n",
       "    </tr>\n",
       "    <tr>\n",
       "      <th>2</th>\n",
       "      <td>B Kumar (INDIA)</td>\n",
       "      <td>2.752981</td>\n",
       "      <td>0.152063</td>\n",
       "      <td>-0.405149</td>\n",
       "    </tr>\n",
       "    <tr>\n",
       "      <th>1</th>\n",
       "      <td>YS Chahal (INDIA)</td>\n",
       "      <td>2.186560</td>\n",
       "      <td>-0.392555</td>\n",
       "      <td>1.732032</td>\n",
       "    </tr>\n",
       "    <tr>\n",
       "      <th>13</th>\n",
       "      <td>PJ Cummins (AUS)</td>\n",
       "      <td>1.460851</td>\n",
       "      <td>0.460170</td>\n",
       "      <td>-1.208903</td>\n",
       "    </tr>\n",
       "  </tbody>\n",
       "</table>\n",
       "</div>"
      ],
      "text/plain": [
       "                   Player       PC1       PC2       PC3\n",
       "0   Kuldeep Yadav (INDIA)  3.224447 -0.408318  2.097837\n",
       "3       JJ Bumrah (INDIA)  3.134040  0.686729 -0.901905\n",
       "2         B Kumar (INDIA)  2.752981  0.152063 -0.405149\n",
       "1       YS Chahal (INDIA)  2.186560 -0.392555  1.732032\n",
       "13       PJ Cummins (AUS)  1.460851  0.460170 -1.208903"
      ]
     },
     "execution_count": 1127,
     "metadata": {},
     "output_type": "execute_result"
    }
   ],
   "source": [
    "df_post_pca.sort_values(by=['PC1', 'PC2', 'PC3'], ascending=False).head()"
   ]
  },
  {
   "cell_type": "markdown",
   "metadata": {},
   "source": [
    "#### Let's plot these 2 PCs on scatter plot"
   ]
  },
  {
   "cell_type": "code",
   "execution_count": 1128,
   "metadata": {},
   "outputs": [
    {
     "name": "stderr",
     "output_type": "stream",
     "text": [
      "No handles with labels found to put in legend.\n"
     ]
    },
    {
     "data": {
      "text/plain": [
       "<matplotlib.legend.Legend at 0x25323843550>"
      ]
     },
     "execution_count": 1128,
     "metadata": {},
     "output_type": "execute_result"
    },
    {
     "data": {
      "image/png": "[encoded data removed]",
      "text/plain": [
       "<Figure size 720x576 with 1 Axes>"
      ]
     },
     "metadata": {},
     "output_type": "display_data"
    }
   ],
   "source": [
    "fig = plt.figure(figsize = (10,8))\n",
    "cmap = sns.cubehelix_palette(dark=.3, light=.8, as_cmap=True)\n",
    "sns.scatterplot(x=df_post_pca.PC1, \n",
    "                y=df_post_pca.PC2,  \n",
    "                sizes=(20, 200), \n",
    "                color=\"b\",\n",
    "                palette=cmap)\n",
    "plt.legend(loc='upper right')"
   ]
  },
  {
   "cell_type": "markdown",
   "metadata": {},
   "source": [
    "#### Highest wicket-taker"
   ]
  },
  {
   "cell_type": "markdown",
   "metadata": {},
   "source": [
    "The above data shows that the following two players have a very good chance of taking highest wickets in the series: \n",
    "- Kuldeep Yadav\n",
    "- Jasprit Bumrah"
   ]
  },
  {
   "cell_type": "markdown",
   "metadata": {},
   "source": [
    "Kuldeep Yadav is on top, but PC1 only explains 55% of the variance, so if we consider both PC1 and PC2 then seems like most wickets in the series will be taken by **Jasprit Bumrah.**"
   ]
  },
  {
   "cell_type": "markdown",
   "metadata": {},
   "source": [
    "### Final Prediction"
   ]
  },
  {
   "cell_type": "markdown",
   "metadata": {},
   "source": [
    "As per the analysis done by us we have predicted the following results:\n",
    "\n",
    "|   |  |\n",
    "|---|---|---|\n",
    "| Winner of the series  | India  |\n",
    "| Series output  | 4-1  |\n",
    "| Highest run scorer | Rohit Sharma  |\n",
    "| Highest wicket-taker  | Jasprit Bumrah |\n",
    "| Maximum sixes  | Rohit Sharma  |\n",
    "| Maximum fours  | Shikhar Dhawan  |"
   ]
  }
 ],
 "metadata": {
  "kernelspec": {
   "display_name": "Python 3",
   "language": "python",
   "name": "python3"
  },
  "language_info": {
   "codemirror_mode": {
    "name": "ipython",
    "version": 3
   },
   "file_extension": ".py",
   "mimetype": "text/x-python",
   "name": "python",
   "nbconvert_exporter": "python",
   "pygments_lexer": "ipython3",
   "version": "3.6.5"
  }
 },
 "nbformat": 4,
 "nbformat_minor": 2
}
